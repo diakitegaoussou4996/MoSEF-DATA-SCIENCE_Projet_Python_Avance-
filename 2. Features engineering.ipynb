{
 "cells": [
  {
   "cell_type": "markdown",
   "metadata": {
    "id": "086q4Isxyvqb"
   },
   "source": [
    "<br>\n",
    "<img src=\"data/logoMoSEF.jpeg\" width=90px align=\"left\">\n",
    "<div align=\"right\">Enseignant : Hager Oueslati</div>\n",
    "<div align=\"right\">Réalisé par : Gaoussou DIAKITE et Eunice KOFFI</div>\n",
    "<div align=\"right\">Année : 2022/2023</div><br><br><br>\n",
    "<div align=\"center\"><span style=\"font-family:Lucida Caligraphy;font-size:32px;color:darkgreen\">Master 2 Modélistaion Statistiques Economiques et Financières</span></div><br>\n",
    "<div align=\"center\"><span style=\"font-family:Lucida Caligraphy;font-size:28px;color:#e60000\">Projet Python avancé</span></div><br><br>\n",
    "<hr>\n",
    "\n",
    "<br>\n",
    "\n",
    "<div align=\"center\"><span style=\"font-family:Lucida Caligraphy;font-size:32px;color:darkgreen\"> Features engineering </span></div><br>\n",
    "<hr/>"
   ]
  },
  {
   "cell_type": "markdown",
   "metadata": {
    "id": "TMA8mY3h_8nr"
   },
   "source": [
    "# Importation des bibliothèques et modules"
   ]
  },
  {
   "cell_type": "code",
   "execution_count": null,
   "metadata": {
    "colab": {
     "base_uri": "https://localhost:8080/"
    },
    "executionInfo": {
     "elapsed": 1776,
     "status": "ok",
     "timestamp": 1674902914177,
     "user": {
      "displayName": "eunice koffi",
      "userId": "14656359532829769546"
     },
     "user_tz": -60
    },
    "id": "CFMDkd-5yBB7",
    "outputId": "9a8a4eef-50aa-4798-94c9-198707c17ba8"
   },
   "outputs": [
    {
     "name": "stdout",
     "output_type": "stream",
     "text": [
      "Drive already mounted at /content/drive; to attempt to forcibly remount, call drive.mount(\"/content/drive\", force_remount=True).\n"
     ]
    }
   ],
   "source": [
    "#établir la connexion avec google drive \n",
    "from google.colab import drive\n",
    "drive.mount('/content/drive')"
   ]
  },
  {
   "cell_type": "code",
   "execution_count": null,
   "metadata": {
    "colab": {
     "base_uri": "https://localhost:8080/"
    },
    "executionInfo": {
     "elapsed": 3990,
     "status": "ok",
     "timestamp": 1674902918162,
     "user": {
      "displayName": "eunice koffi",
      "userId": "14656359532829769546"
     },
     "user_tz": -60
    },
    "id": "--jnhuneyGut",
    "outputId": "a60b887f-9cf3-4fb3-b006-cd8e7b915634"
   },
   "outputs": [
    {
     "name": "stdout",
     "output_type": "stream",
     "text": [
      "Looking in indexes: https://pypi.org/simple, https://us-python.pkg.dev/colab-wheels/public/simple/\n",
      "Requirement already satisfied: pyspark in /usr/local/lib/python3.8/dist-packages (3.3.1)\n",
      "Requirement already satisfied: py4j==0.10.9.5 in /usr/local/lib/python3.8/dist-packages (from pyspark) (0.10.9.5)\n"
     ]
    }
   ],
   "source": [
    "!pip install pyspark"
   ]
  },
  {
   "cell_type": "code",
   "execution_count": null,
   "metadata": {
    "colab": {
     "base_uri": "https://localhost:8080/"
    },
    "executionInfo": {
     "elapsed": 4911,
     "status": "ok",
     "timestamp": 1674902923063,
     "user": {
      "displayName": "eunice koffi",
      "userId": "14656359532829769546"
     },
     "user_tz": -60
    },
    "id": "JySSRcpuyGrN",
    "outputId": "1ec55d8a-a017-4b98-f9ed-51c5a2be4acd"
   },
   "outputs": [
    {
     "name": "stdout",
     "output_type": "stream",
     "text": [
      "Looking in indexes: https://pypi.org/simple, https://us-python.pkg.dev/colab-wheels/public/simple/\n",
      "Requirement already satisfied: findspark in /usr/local/lib/python3.8/dist-packages (2.0.1)\n"
     ]
    }
   ],
   "source": [
    "!pip install findspark"
   ]
  },
  {
   "cell_type": "code",
   "execution_count": null,
   "metadata": {
    "id": "hRtNZfxzyGoo"
   },
   "outputs": [],
   "source": [
    "import findspark\n",
    "from pyspark import  HiveContext , SparkContext\n"
   ]
  },
  {
   "cell_type": "code",
   "execution_count": null,
   "metadata": {
    "id": "mWTuNxYKqGM8"
   },
   "outputs": [],
   "source": [
    "from pyspark.sql import functions as F\n",
    "from pyspark.sql.functions import col, count, expr, explode, regexp_extract, regexp_replace, substring, when\n",
    "from pyspark.sql.window import Window"
   ]
  },
  {
   "cell_type": "code",
   "execution_count": null,
   "metadata": {
    "colab": {
     "base_uri": "https://localhost:8080/",
     "height": 224
    },
    "executionInfo": {
     "elapsed": 295,
     "status": "error",
     "timestamp": 1674902923354,
     "user": {
      "displayName": "eunice koffi",
      "userId": "14656359532829769546"
     },
     "user_tz": -60
    },
    "id": "EHi0GGhsyGmR",
    "outputId": "26f3f119-0edd-438e-ad84-5f8d104c827d"
   },
   "outputs": [],
   "source": [
    "sc = SparkContext()\n",
    "sqlContext = HiveContext(sc)"
   ]
  },
  {
   "cell_type": "markdown",
   "metadata": {
    "id": "3f9vBjbdAXPI"
   },
   "source": [
    "# Importation de la base de données"
   ]
  },
  {
   "cell_type": "code",
   "execution_count": null,
   "metadata": {
    "colab": {
     "base_uri": "https://localhost:8080/"
    },
    "executionInfo": {
     "elapsed": 170,
     "status": "ok",
     "timestamp": 1674902930998,
     "user": {
      "displayName": "eunice koffi",
      "userId": "14656359532829769546"
     },
     "user_tz": -60
    },
    "id": "3pAhOoVcyGkC",
    "outputId": "db6e3f1d-96ef-47e3-d266-fe8f3e3cdb25"
   },
   "outputs": [
    {
     "data": {
      "text/plain": [
       "pyspark.rdd.RDD"
      ]
     },
     "execution_count": 44,
     "metadata": {},
     "output_type": "execute_result"
    }
   ],
   "source": [
    "nexity_json = sc.wholeTextFiles('/content/drive/MyDrive/Projet Python/Nexity_2.json')\n",
    "type(nexity_json)"
   ]
  },
  {
   "cell_type": "code",
   "execution_count": null,
   "metadata": {
    "id": "qcSJ5cJmyGhm"
   },
   "outputs": [],
   "source": [
    "nexity_json.take(1)\n",
    "nexity_json.map(lambda x : x[0]).take(1)\n",
    "nexity_json.map(lambda x : x[1]).take(1)\n",
    "nexity_json = nexity_json.map(lambda x : x[1])"
   ]
  },
  {
   "cell_type": "code",
   "execution_count": null,
   "metadata": {
    "colab": {
     "base_uri": "https://localhost:8080/"
    },
    "executionInfo": {
     "elapsed": 921,
     "status": "ok",
     "timestamp": 1674902940154,
     "user": {
      "displayName": "eunice koffi",
      "userId": "14656359532829769546"
     },
     "user_tz": -60
    },
    "id": "0p_kSkCgBQw2",
    "outputId": "d80753c8-3e20-4a2b-a1f0-1f7c9af4efd7"
   },
   "outputs": [
    {
     "name": "stdout",
     "output_type": "stream",
     "text": [
      "+--------------------+--------------------+-----------+--------------------+---------------+--------------------+--------------------+--------------------+--------------------+---------------+----------+--------------------+----------------+------+\n",
      "|         Amenagement|              Bareme|Code_postal|         Copropriete|    Departement|         Description|           Essentiel|            Logement|        Loyer_Charge|     Prix_loyer|Superficie|               Titre|           Types|field1|\n",
      "+--------------------+--------------------+-----------+--------------------+---------------+--------------------+--------------------+--------------------+--------------------+---------------+----------+--------------------+----------------+------+\n",
      "|Pièce(s)1WC sépar...|Loyer :650 CC/moi...|      31000|Charges courantes...|       Toulouse|Plein centre vill...|Type de BienAppar...|- Appartement stu...|Loyer (CC/ mois)6...|  650 € CC/mois|     22 m²|Appartement à lou...|location meublée|     0|\n",
      "|Pièce(s)1WC sépar...|Loyer :450 CC/moi...|      51100|Charges courantes...|          Reims|hyper centre - pl...|Type de BienAppar...|- Appartement stu...|Loyer (CC/ mois)4...|  450 € CC/mois|     27 m²|Appartement à lou...|location meublée|     1|\n",
      "|Pièce(s)1WC sépar...|Loyer :409 CC/moi...|      59300|Charges courantes...|   Valenciennes|   Pas de descriptif|Type de BienAppar...|- Appartement stu...|Loyer (CC/ mois)4...|  409 € CC/mois|     18 m²|Appartement à lou...|location meublée|     2|\n",
      "|Pièce(s)1WC sépar...|Loyer :490 CC/moi...|         NA|Charges courantes...|          84000|AVIGNON AGROPARC ...|Type de BienAppar...|                  NA|Loyer (CC/ mois)4...|             NA|        NA|Appartement étudi...|location meublée|     3|\n",
      "|Pièce(s)1WC sépar...|Loyer :632 CC/moi...|      33600|Charges courantes...|         Pessac|PESSAC - Au coeur...|Type de BienAppar...|- Appartement stu...|Loyer (CC/ mois)6...|  632 € CC/mois|     21 m²|Appartement à lou...|location meublée|     4|\n",
      "|Pièce(s)3WC sépar...|Loyer :1 155 CC/m...|      33400|Charges courantes...|        Talence|Talence  Lamartin...|Type de BienAppar...|- Appartement 3 p...|Loyer (CC/ mois)1...|1 155 € CC/mois|     69 m²|Appartement à lou...|location meublée|     5|\n",
      "|Pièce(s)1WC sépar...|Loyer :502 CC/moi...|      51100|Charges courantes...|          Reims|Hyper Centre rue ...|Type de BienAppar...|- Appartement stu...|Loyer (CC/ mois)5...|  502 € CC/mois|     24 m²|Appartement à lou...|location meublée|     6|\n",
      "|Pièce(s)1WC1WC sé...|Loyer :402 CC/moi...|      51100|Charges courantes...|          Reims|Résidence Farman ...|Type de BienAppar...|- Appartement stu...|Loyer (CC/ mois)4...|  402 € CC/mois|     18 m²|Appartement à lou...|location meublée|     7|\n",
      "|Pièce(s)4Chambre(...|Loyer :1 780 CC/m...|      38000|Charges courantes...|       Grenoble|EXCEPTIONNEL - Pa...|Type de BienAppar...|- Appartement 4 p...|Loyer (CC/ mois)1...|1 780 € CC/mois|    115 m²|Appartement à lou...|location meublée|     8|\n",
      "|Pièce(s)1WC sépar...|Loyer :354 CC/moi...|      89000|Charges courantes...|        Auxerre|Dans une résidenc...|Type de BienAppar...|- Appartement stu...|Loyer (CC/ mois)3...|  354 € CC/mois|     17 m²|Appartement à lou...|location meublée|     9|\n",
      "|Pièce(s)1WC sépar...|Loyer :570 CC/moi...|         NA|Charges courantes...|          59564|L'idéal pour un é...|Type de BienAppar...|                  NA|Loyer (CC/ mois)5...|             NA|        NA|Appartement étudi...|location meublée|    10|\n",
      "|Pièce(s)2Chambre(...|Loyer :590 CC/moi...|      51100|Charges courantes...|          Reims|Secteur Gambetta ...|Type de BienAppar...|- Appartement 2 p...|Loyer (CC/ mois)5...|  590 € CC/mois|     38 m²|Appartement à lou...|location meublée|    11|\n",
      "|Pièce(s)1WC1WC sé...|Loyer :383 CC/moi...|      51100|Charges courantes...|          Reims|RESIDENCE DU PARC...|Type de BienAppar...|- Appartement stu...|Loyer (CC/ mois)3...|  383 € CC/mois|     17 m²|Appartement à lou...|location meublée|    12|\n",
      "|Pièce(s)2WC sépar...|Loyer :963 CC/moi...|      06000|Charges courantes...|           Nice|Disponible le 22/...|Type de BienAppar...|- Appartement 2 p...|Loyer (CC/ mois)9...|  963 € CC/mois|     59 m²|Appartement à lou...|location meublée|    13|\n",
      "|Pièce(s)1WC1WC sé...|Loyer :526 CC/moi...|         NA|Charges courantes...|          34000|Rue du Pioch  de ...|Type de BienAppar...|                  NA|Loyer (CC/ mois)5...|             NA|        NA|Appartement étudi...|location meublée|    14|\n",
      "|Pièce(s)2Chambre(...|Loyer :629 CC/moi...|      13100|Charges courantes...|Aix-en-Provence|Beau T2 duplex, m...|Type de BienAppar...|- Appartement 2 p...|Loyer (CC/ mois)6...|  629 € CC/mois|     32 m²|Appartement à lou...|location meublée|    15|\n",
      "|Pièce(s)2Chambre(...|Loyer :989 CC/moi...|      31000|Charges courantes...|       Toulouse|Alsace Lorraine, ...|Type de BienAppar...|- Appartement 2 p...|Loyer (CC/ mois)9...|  989 € CC/mois|     52 m²|Appartement à lou...|location meublée|    16|\n",
      "|Pièce(s)1WC sépar...|Loyer :394 CC/moi...|      73600|Charges courantes...|       Moûtiers|CENTRE DE MOUTIER...|Type de BienAppar...|- Appartement stu...|Loyer (CC/ mois)3...|  394 € CC/mois|     31 m²|Appartement à lou...|location meublée|    17|\n",
      "|Pièce(s)1WC sépar...|Loyer :795 CC/moi...|      75017|Charges courantes...|       Paris 17|PARIS 17, METRO L...|Type de BienAppar...|- Appartement stu...|Loyer (CC/ mois)7...|  795 € CC/mois|     19 m²|Appartement à lou...|location meublée|    18|\n",
      "|Pièce(s)2Chambre(...|Loyer :1 395 CC/m...|      75016|Charges courantes...|       Paris 16|Proches transport...|Type de BienAppar...|- Appartement 2 p...|Loyer (CC/ mois)1...|1 395 € CC/mois|     37 m²|Appartement à lou...|location meublée|    19|\n",
      "+--------------------+--------------------+-----------+--------------------+---------------+--------------------+--------------------+--------------------+--------------------+---------------+----------+--------------------+----------------+------+\n",
      "only showing top 20 rows\n",
      "\n"
     ]
    }
   ],
   "source": [
    "data = sqlContext.read.json(nexity_json)\n",
    "data.show()"
   ]
  },
  {
   "cell_type": "code",
   "execution_count": null,
   "metadata": {
    "colab": {
     "base_uri": "https://localhost:8080/"
    },
    "executionInfo": {
     "elapsed": 187,
     "status": "ok",
     "timestamp": 1674902943439,
     "user": {
      "displayName": "eunice koffi",
      "userId": "14656359532829769546"
     },
     "user_tz": -60
    },
    "id": "xVwz-8HnBopP",
    "outputId": "8ab24fc6-1d67-4228-9923-686995da96eb"
   },
   "outputs": [
    {
     "name": "stdout",
     "output_type": "stream",
     "text": [
      "root\n",
      " |-- Amenagement: string (nullable = true)\n",
      " |-- Bareme: string (nullable = true)\n",
      " |-- Code_postal: string (nullable = true)\n",
      " |-- Copropriete: string (nullable = true)\n",
      " |-- Departement: string (nullable = true)\n",
      " |-- Description: string (nullable = true)\n",
      " |-- Essentiel: string (nullable = true)\n",
      " |-- Logement: string (nullable = true)\n",
      " |-- Loyer_Charge: string (nullable = true)\n",
      " |-- Prix_loyer: string (nullable = true)\n",
      " |-- Superficie: string (nullable = true)\n",
      " |-- Titre: string (nullable = true)\n",
      " |-- Types: string (nullable = true)\n",
      " |-- field1: string (nullable = true)\n",
      "\n"
     ]
    }
   ],
   "source": [
    "data.printSchema()"
   ]
  },
  {
   "cell_type": "code",
   "execution_count": null,
   "metadata": {
    "colab": {
     "base_uri": "https://localhost:8080/"
    },
    "executionInfo": {
     "elapsed": 567,
     "status": "ok",
     "timestamp": 1674902944302,
     "user": {
      "displayName": "eunice koffi",
      "userId": "14656359532829769546"
     },
     "user_tz": -60
    },
    "id": "tjZCiGWoSBGE",
    "outputId": "05de4f7e-e110-45ba-e055-2c72ac0b9512"
   },
   "outputs": [
    {
     "name": "stdout",
     "output_type": "stream",
     "text": [
      "La base de données contients 1032 lignes et 14 colonnes.\n"
     ]
    }
   ],
   "source": [
    "print(\"La base de données contients\", data.count(), \"lignes et\", len(data.columns), \"colonnes.\")"
   ]
  },
  {
   "cell_type": "markdown",
   "metadata": {
    "id": "_XV_2bf7SbeR"
   },
   "source": [
    "# Construction de la base de données\n",
    "\n",
    "Nous constatons que nous avons des colonnes qui contiennent des informations complètes que d'autres et que d'une colonne, nous pouvons tirer des informations valables qui remplaceront les valeurs manquantes d'une autre colonne."
   ]
  },
  {
   "cell_type": "markdown",
   "metadata": {
    "id": "j_sN8utOVqNB"
   },
   "source": [
    "## Sélection de colonnes"
   ]
  },
  {
   "cell_type": "code",
   "execution_count": null,
   "metadata": {
    "id": "HNrT4d-yyuF4"
   },
   "outputs": [],
   "source": [
    "data = data.select('Titre', 'Amenagement','Bareme','Copropriete', 'Description', 'Essentiel', 'Loyer_Charge', 'Code_postal', 'Departement')"
   ]
  },
  {
   "cell_type": "code",
   "execution_count": null,
   "metadata": {
    "colab": {
     "base_uri": "https://localhost:8080/"
    },
    "executionInfo": {
     "elapsed": 663,
     "status": "ok",
     "timestamp": 1674902945812,
     "user": {
      "displayName": "eunice koffi",
      "userId": "14656359532829769546"
     },
     "user_tz": -60
    },
    "id": "xXkUV8HsX2n6",
    "outputId": "fdc7dc81-675b-4938-8cb9-1112dad4159e"
   },
   "outputs": [
    {
     "name": "stdout",
     "output_type": "stream",
     "text": [
      "+------------------------------------------------------------+---------------------------------------------+----------------------------------------------------------------------------------------------------------------------------------------------------------------------------------------------------------------------------------------------------------------------------------------------------------------------------------------------------------------------------------------------------------------------------------------------------------------------------------------------------------------------------------------------------------------------------------------------------------------------------------------------------------------------------------------------------------------------------------------------------------------------------------------------------------------------------------------------+---------------------------------------------------------------------------------------------------------------------------+---------------------------------------------------------------------------------------------------------------------------------------------------------------------------------------------------------------------------------------------------------------------------------------------------------------------------------------------------------------------------------------------------------------------------------------------------------------------------------------------------------------------------------------------------------------------------------------------------------------------------------------------------------------------------------------------------------------------------------------------------------------------------------------------------------------------------------------------------------------------------------------------------------------------------------------------------------------------------------------------------------------------------------------+------------------------------------------------------------------------------------------------------------------------------------------------+-----------------------------------+-----------+---------------+\n",
      "|Titre                                                       |Amenagement                                  |Bareme                                                                                                                                                                                                                                                                                                                                                                                                                                                                                                                                                                                                                                                                                                                                                                                                                                        |Copropriete                                                                                                                |Description                                                                                                                                                                                                                                                                                                                                                                                                                                                                                                                                                                                                                                                                                                                                                                                                                                                                                                                                                                                                                            |Essentiel                                                                                                                                       |Loyer_Charge                       |Code_postal|Departement    |\n",
      "+------------------------------------------------------------+---------------------------------------------+----------------------------------------------------------------------------------------------------------------------------------------------------------------------------------------------------------------------------------------------------------------------------------------------------------------------------------------------------------------------------------------------------------------------------------------------------------------------------------------------------------------------------------------------------------------------------------------------------------------------------------------------------------------------------------------------------------------------------------------------------------------------------------------------------------------------------------------------+---------------------------------------------------------------------------------------------------------------------------+---------------------------------------------------------------------------------------------------------------------------------------------------------------------------------------------------------------------------------------------------------------------------------------------------------------------------------------------------------------------------------------------------------------------------------------------------------------------------------------------------------------------------------------------------------------------------------------------------------------------------------------------------------------------------------------------------------------------------------------------------------------------------------------------------------------------------------------------------------------------------------------------------------------------------------------------------------------------------------------------------------------------------------------+------------------------------------------------------------------------------------------------------------------------------------------------+-----------------------------------+-----------+---------------+\n",
      "|Appartement à louer : Toulouse•22 m²•studio / T1            |Pièce(s)1WC séparéOui                        |Loyer :650 CC/mois €Dont provisions de charges : 30 €/mois ou /trimestre +\\n                    régularisation annuelleHonoraires d'organisation de la visite / Constitution du dossier candidat / Rédaction du\\n                bail à la charge du locataire :0.00 € TTCHonoraires de réalisation d'état des lieux à la charge du locataire :0 € TTCDépôt de garantie :1240€Télécharger\\n                le barème des honorairesLes informations sur les risques auxquels ce bien est exposé sont disponibles sur le site\\n                    Géorisques :https://www.georisques.gouv.fr/                                                                                                                                                                                                                                                 |Charges courantes annuelles estimées0 €Types de bienAppartementEtage1AscenseurOuiCaveOuiInterphoneOuiGardienOuiDigicodeOui |Plein centre ville, en chartreuse au 1 er étage ce charmant T1 tout équipé  a été rénové récemment avec beaucoup de goût : cuisine complétement équipée , séjour avec table, chaises, rangements,  lit en 140, salle d'eau avec toilette et douche à l'italienne.                                                                                                                                                                                                                                                                                                                                                                                                                                                                                                                                                                                                                                                                                                                                                                      |Type de BienAppartementTerrain extérieurNonTerrasseOuiEtage1er sur 1BalconNonSurface22m²Parking/ Box/ Place de stationnementNon                 |Loyer (CC/ mois)650Charges/mois30  |31000      |Toulouse       |\n",
      "|Appartement à louer : Reims•27 m²•studio / T1               |Pièce(s)1WC séparéOui                        |Loyer :450 CC/mois €Dont provisions de charges : 40 €/mois ou /trimestre +\\n                    régularisation annuelleHonoraires d'organisation de la visite / Constitution du dossier candidat / Rédaction du\\n                bail à la charge du locataire :212.48 € TTCHonoraires de réalisation d'état des lieux à la charge du locataire :79 € TTCDépôt de garantie :820€Télécharger\\n                le barème des honorairesLes informations sur les risques auxquels ce bien est exposé sont disponibles sur le site\\n                    Géorisques :https://www.georisques.gouv.fr/                                                                                                                                                                                                                                               |Charges courantes annuelles estimées0 €Types de bienAppartementEtage1AscenseurOuiCaveOuiInterphoneOuiGardienOuiDigicodeOui |hyper centre - place d'Erlon Un appartement meublé situé au premier étage comprenant une pièce principale avec kitchenette (plaques électriques, réfrigérateur), une salle de douche avec wc. Le chauffage est individuel électrique.                                                                                                                                                                                                                                                                                                                                                                                                                                                                                                                                                                                                                                                                                                                                                                                                  |Type de BienAppartementTerrain extérieurNonTerrasseOuiEtage1er sur 1BalconNonSurface27m²Parking/ Box/ Place de stationnementNon                 |Loyer (CC/ mois)450Charges/mois40  |51100      |Reims          |\n",
      "|Appartement à louer : Valenciennes•18 m²•studio / T1        |Pièce(s)1WC séparéOui                        |Loyer :409 CC/mois €Dont provisions de charges : 25 €/mois ou /trimestre +\\n                    régularisation annuelleHonoraires d'organisation de la visite / Constitution du dossier candidat / Rédaction du\\n                bail à la charge du locataire :144.98 € TTCHonoraires de réalisation d'état des lieux à la charge du locataire :53 € TTCDépôt de garantie :768€Télécharger\\n                le barème des honorairesLes informations sur les risques auxquels ce bien est exposé sont disponibles sur le site\\n                    Géorisques :https://www.georisques.gouv.fr/                                                                                                                                                                                                                                               |Charges courantes annuelles estimées0 €Types de bienAppartementEtage3AscenseurOuiCaveOuiInterphoneOuiGardienOuiDigicodeOui |Pas de descriptif                                                                                                                                                                                                                                                                                                                                                                                                                                                                                                                                                                                                                                                                                                                                                                                                                                                                                                                                                                                                                      |Type de BienAppartementTerrain extérieurNonTerrasseOuiEtage3ème sur 3BalconNonSurface18m²Parking/ Box/ Place de stationnementNon                |Loyer (CC/ mois)409Charges/mois25  |59300      |Valenciennes   |\n",
      "|Appartement étudiant à louer : Avignon•25 m²•studio / T1    |Pièce(s)1WC séparéOui                        |Loyer :490 CC/mois €Dont provisions de charges : 48 €/mois ou /trimestre +\\n                    régularisation annuelleHonoraires d'organisation de la visite / Constitution du dossier candidat / Rédaction du\\n                bail à la charge du locataire :198.78 € TTCHonoraires de réalisation d'état des lieux à la charge du locataire :74 € TTCDépôt de garantie :884€Télécharger\\n                le barème des honorairesLes informations sur les risques auxquels ce bien est exposé sont disponibles sur le site\\n                    Géorisques :https://www.georisques.gouv.fr/                                                                                                                                                                                                                                               |Charges courantes annuelles estimées0 €Types de bienAppartementEtage2AscenseurOuiCaveOuiInterphoneOuiGardienOuiDigicodeOui |AVIGNON AGROPARC - Idéal pour étudiant ou jeune salarié. Dans une résidence étudiante et sécurisée avec gardien, laverie, dans un environnement verdoyant et calme, venez visiter studio de 24 m² comprenant un séjour, une salle de bain avec WC, un coin kitchenette équipé et un balcon. Proche de toutes commodités : lignes de bus(lignes 7,15,20 et 3), magasins, restaurants, écoles.  parking privatif extérieur, terrain multisports.Déposez votre dossier en ligne sur www.nexity.fr nous vous recontacterons dans les meilleurs délais                                                                                                                                                                                                                                                                                                                                                                                                                                                                                      |Type de BienAppartementTerrain extérieurNonOrientationOuestTerrasseOuiEtage2ème sur 2BalconOuiSurface25m²Parking/ Box/ Place de stationnementNon|Loyer (CC/ mois)490Charges/mois48  |NA         |84000          |\n",
      "|Appartement à louer : Pessac•21 m²•studio / T1              |Pièce(s)1WC séparéOui                        |Loyer :632 CC/mois €Dont provisions de charges : 40 €/mois ou /trimestre +\\n                    régularisation annuelleHonoraires d'organisation de la visite / Constitution du dossier candidat / Rédaction du\\n                bail à la charge du locataire :207.08 € TTCHonoraires de réalisation d'état des lieux à la charge du locataire :62 € TTCDépôt de garantie :1077€Télécharger\\n                le barème des honorairesLes informations sur les risques auxquels ce bien est exposé sont disponibles sur le site\\n                    Géorisques :https://www.georisques.gouv.fr/                                                                                                                                                                                                                                              |Charges courantes annuelles estimées0 €Types de bienAppartementEtage2AscenseurOuiCaveOuiInterphoneOuiGardienOuiDigicodeOui |PESSAC - Au coeur du domaine universitaire, à deux pas du tram B et de la ligne de bus 10, nous vous proposons cet agréable studio dans une résidence de standing, composé d'un séjour lumineux, un espace bureau et un coin cuisine entièrement aménagé et fonctionnel. Cet appartement est  conçu pour vous permettre un séjour des plus agréables. Vous disposerez d'une laverie et d'un emplacement de parking en sous-sol et d'un accès internet avec modem  individuel. Appartement libre à la location à compter du 17/12/2022                                                                                                                                                                                                                                                                                                                                                                                                                                                                                                  |Type de BienAppartementTerrain extérieurNonTerrasseOuiEtage2ème sur 2BalconNonSurface21m²Parking/ Box/ Place de stationnementNon                |Loyer (CC/ mois)632Charges/mois40  |33600      |Pessac         |\n",
      "|Appartement à louer : Talence•69 m²•3 pièces                |Pièce(s)3WC séparéOui                        |Loyer :1 155 CC/mois €Dont provisions de charges : 55 €/mois ou /trimestre +\\n                    régularisation annuelleHonoraires d'organisation de la visite / Constitution du dossier candidat / Rédaction du\\n                bail à la charge du locataire :694.20 € TTCHonoraires de réalisation d'état des lieux à la charge du locataire :208 € TTCDépôt de garantie :2200€Télécharger\\n                le barème des honorairesLes informations sur les risques auxquels ce bien est exposé sont disponibles sur le site\\n                    Géorisques :https://www.georisques.gouv.fr/                                                                                                                                                                                                                                           |Charges courantes annuelles estimées0 €Types de bienAppartementEtage5AscenseurOuiCaveOuiInterphoneOuiGardienOuiDigicodeOui |Talence  Lamartine - Tram et Commerces à proximité -  Dans Résidence Arborée et sécurisée, nous vous proposons de visiter cet appartement de type 3 pièces entièrement meublé situé au 5ème et dernier étage avec ascenseur, composé d'une entrée spacieuse avec de nombreux rangements, une cuisine indépendante aménagée et équipée, un séjour lumineux, de deux chambres, d'une salle de bains et dressing, le tout donnant sur un long balcon avec vue dégagée. Cave et emplacement de parking à disposition.Disponibilité immédiate.                                                                                                                                                                                                                                                                                                                                                                                                                                                                                              |Type de BienAppartementTerrain extérieurNonTerrasseOuiEtage5ème sur 5BalconOuiSurface69m²Parking/ Box/ Place de stationnementNon                |Loyer (CC/ mois)1155Charges/mois55 |33400      |Talence        |\n",
      "|Appartement à louer : Reims•24 m²•studio / T1               |Pièce(s)1WC séparéOui                        |Loyer :502 CC/mois €Dont provisions de charges : 15 €/mois ou /trimestre +\\n                    régularisation annuelleHonoraires d'organisation de la visite / Constitution du dossier candidat / Rédaction du\\n                bail à la charge du locataire :193.08 € TTCHonoraires de réalisation d'état des lieux à la charge du locataire :72 € TTCDépôt de garantie :974€Télécharger\\n                le barème des honorairesLes informations sur les risques auxquels ce bien est exposé sont disponibles sur le site\\n                    Géorisques :https://www.georisques.gouv.fr/                                                                                                                                                                                                                                               |Charges courantes annuelles estimées0 €Types de bienAppartementEtage1AscenseurOuiCaveOuiInterphoneOuiGardienOuiDigicodeOui |Hyper Centre rue des Elus.Studio meublé au premier étage. Idéalement situé comprenant une pièce principale avec coin kitchenette. Une salle de douche avec wc.Chauffage électrique individuel.                                                                                                                                                                                                                                                                                                                                                                                                                                                                                                                                                                                                                                                                                                                                                                                                                                         |Type de BienAppartementTerrain extérieurNonTerrasseOuiEtage1er sur 1BalconNonSurface24m²Parking/ Box/ Place de stationnementNon                 |Loyer (CC/ mois)502Charges/mois15  |51100      |Reims          |\n",
      "|Appartement à louer : Reims•18 m²•studio / T1               |Pièce(s)1WC1WC séparéOui                     |Loyer :402 CC/mois €Dont provisions de charges : 50 €/mois ou /trimestre +\\n                    régularisation annuelleHonoraires d'organisation de la visite / Constitution du dossier candidat / Rédaction du\\n                bail à la charge du locataire :144.98 € TTCHonoraires de réalisation d'état des lieux à la charge du locataire :53 € TTCDépôt de garantie :704€Télécharger\\n                le barème des honorairesLes informations sur les risques auxquels ce bien est exposé sont disponibles sur le site\\n                    Géorisques :https://www.georisques.gouv.fr/                                                                                                                                                                                                                                               |Charges courantes annuelles estimées0 €Types de bienAppartementEtage2AscenseurOuiCaveOuiInterphoneOuiGardienOuiDigicodeOui |Résidence Farman Dans une résidence de qualité offrant de nombreux services tel que internet en wifi, gardiennage, parking collectif, laverie...Un studio meublé offrant une entrée avec un coin kitchenette meublée et équipée, une pièce principale avec un placard de rangement, une salle de douches avec wc Meubles : bureau, table, chaises, clic clac, placard de rangement, étagère TV.Moins 10 minutes de la faculté des science, l'IUT en prenant la ligne 3 (direction Moulin de la Housse), accès à la faculté des lettre et la gare de Bezannes ligne 11.                                                                                                                                                                                                                                                                                                                                                                                                                                                                 |Type de BienAppartementTerrain extérieurNonTerrasseOuiEtage2ème sur 2BalconNonSurface18m²Parking/ Box/ Place de stationnementNon                |Loyer (CC/ mois)402Charges/mois50  |51100      |Reims          |\n",
      "|Appartement à louer : Grenoble•115 m²•4 pièces              |Pièce(s)4Chambre(s)3WC1WC séparéOui          |Loyer :1 780 CC/mois €Dont provisions de charges : 80 €/mois ou /trimestre +\\n                    régularisation annuelleHonoraires d'organisation de la visite / Constitution du dossier candidat / Rédaction du\\n                bail à la charge du locataire :0.00 € TTCHonoraires de réalisation d'état des lieux à la charge du locataire :0 € TTCDépôt de garantie :3400€Télécharger\\n                le barème des honorairesLes informations sur les risques auxquels ce bien est exposé sont disponibles sur le site\\n                    Géorisques :https://www.georisques.gouv.fr/                                                                                                                                                                                                                                               |Charges courantes annuelles estimées0 €Types de bienAppartementEtage1AscenseurOuiCaveOuiInterphoneOuiGardienOuiDigicodeOui |EXCEPTIONNEL - Pas de frais de location, ni de frais d'état des lieux - GRENOBLE - Centre ville - Bd Gambetta - Venez visiter cet agréable appartement meublé 4P+C  115.37 M² disposant du charme de l'ancien (jolis parquets, mosaïques anciennes rénovées au sol, cheminées d'ornement, staff, corniches). Il est situé au 1er étage avec ascenseur. l'appartement est composé d'un hall, un dressing et de nombreux rangements, une cuisine (tous les électroménagers sont neufs), un séjour, trois chambres, une salle d'eau (grande douche, meuble vasque, miroir, sèche serviettes, lave-linge/sèche linge neuf). Double vitrage PVC. Le chauffage et l'eau chaude sont individuels électriques, eau froide individuelle. En dépendance un grand grenier. Visite virtuelle disponible sur notre site !  « Déposez votre dossier en ligne sur notre site, nous pourrons vous proposer ce bien » « Les informations sur les risques auxquels ce bien est exposé sont disponibles sur le site Géorisques : www.georisques.gouv.fr ».|Type de BienAppartementTerrain extérieurNonTerrasseOuiEtage1er sur 1BalconOuiSurface115m²Parking/ Box/ Place de stationnementNon                |Loyer (CC/ mois)1780Charges/mois80 |38000      |Grenoble       |\n",
      "|Appartement à louer : Auxerre•17 m²•studio / T1             |Pièce(s)1WC séparéOui                        |Loyer :354 CC/mois €Dont provisions de charges : 14 €/mois ou /trimestre +\\n                    régularisation annuelleHonoraires d'organisation de la visite / Constitution du dossier candidat / Rédaction du\\n                bail à la charge du locataire :0.00 € TTCHonoraires de réalisation d'état des lieux à la charge du locataire :0 € TTCDépôt de garantie :680€Télécharger\\n                le barème des honorairesLes informations sur les risques auxquels ce bien est exposé sont disponibles sur le site\\n                    Géorisques :https://www.georisques.gouv.fr/                                                                                                                                                                                                                                                  |Charges courantes annuelles estimées0 €Types de bienAppartementEtage3AscenseurOuiCaveOuiInterphoneOuiGardienOuiDigicodeOui |Dans une résidence tranquille au 3e étage, meublé avec entrée dans pièce principale équipé d'un coin cuisine avec éléments hauts, plaques électrique, frigo, micro-onde, hotte, table, chaises, une armoire, un sommier une personne, une salle d'eau avec wc, un emplacement de parking - chauffage individuel électrique.                                                                                                                                                                                                                                                                                                                                                                                                                                                                                                                                                                                                                                                                                                            |Type de BienAppartementTerrain extérieurNonTerrasseOuiEtage3ème sur 3BalconNonSurface17m²Parking/ Box/ Place de stationnement1                  |Loyer (CC/ mois)354Charges/mois14  |89000      |Auxerre        |\n",
      "|Appartement étudiant à louer : Lille•28 m²•studio / T1      |Pièce(s)1WC séparéOui                        |Loyer :570 CC/mois €Dont provisions de charges : 110 €/mois ou /trimestre +\\n                    régularisation annuelleZone soumise à encadrement des loyers :Loyer de base (loyer hors charges) : 460\\n                        €/moisLoyer de référence majoré (loyer de base à ne pas dépasser) :\\n                        602 €/moisComplément de loyer : 0 €/moisHonoraires d'organisation de la visite / Constitution du dossier candidat / Rédaction du\\n                bail à la charge du locataire :277.56 € TTCHonoraires de réalisation d'état des lieux à la charge du locataire :82 € TTCDépôt de garantie :921€Télécharger\\n                le barème des honorairesLes informations sur les risques auxquels ce bien est exposé sont disponibles sur le site\\n                    Géorisques :https://www.georisques.gouv.fr/|Charges courantes annuelles estimées0 €Types de bienAppartementEtage12AscenseurOuiCaveOuiInterphoneOuiGardienOuiDigicodeOui|L'idéal pour un étudiant, ne cherchez plusAu coeur d'Euralille, appartement en résidence étudiante sécurisée.Toutes les commodités au pied de la résidence.Cuisine équipéeN'hésitez pas à nous contacter pour plus d'information ou pour le visiter                                                                                                                                                                                                                                                                                                                                                                                                                                                                                                                                                                                                                                                                                                                                                                                    |Type de BienAppartementTerrain extérieurNonTerrasseOuiEtage12ème sur 12BalconNonSurface28m²Parking/ Box/ Place de stationnementNon              |Loyer (CC/ mois)570Charges/mois110 |NA         |59564          |\n",
      "|Appartement à louer : Reims•38 m²•2 pièces                  |Pièce(s)2Chambre(s)1WC1WC séparéOui          |Loyer :590 CC/mois €Dont provisions de charges : 30 €/mois ou /trimestre +\\n                    régularisation annuelleHonoraires d'organisation de la visite / Constitution du dossier candidat / Rédaction du\\n                bail à la charge du locataire :301.04 € TTCHonoraires de réalisation d'état des lieux à la charge du locataire :112 € TTCDépôt de garantie :1120€Télécharger\\n                le barème des honorairesLes informations sur les risques auxquels ce bien est exposé sont disponibles sur le site\\n                    Géorisques :https://www.georisques.gouv.fr/                                                                                                                                                                                                                                             |Charges courantes annuelles estimées0 €Types de bienAppartementEtage1AscenseurOuiCaveOuiInterphoneOuiGardienOuiDigicodeOui |Secteur Gambetta - rue Saint Maurice A deux pas de Sciences Po, des lignes de bus 4 et 6, et des commerces de proximité : Un appartement type 2 entièrement meublé et rénové offrant une entrée, un séjour, une chambre, une cuisine meublée et équipée (plaques vitrocéramiques, hotte, réfrigérateur), une salle de bains, un wc. Une cave.Chauffage électrique individuel                                                                                                                                                                                                                                                                                                                                                                                                                                                                                                                                                                                                                                                           |Type de BienAppartementTerrain extérieurNonTerrasseOuiEtage1er sur 1BalconNonSurface38m²Parking/ Box/ Place de stationnementNon                 |Loyer (CC/ mois)590Charges/mois30  |51100      |Reims          |\n",
      "|Appartement à louer : Reims•17 m²•studio / T1               |Pièce(s)1WC1WC séparéOui                     |Loyer :383 CC/mois €Dont provisions de charges : 25 €/mois ou /trimestre +\\n                    régularisation annuelleHonoraires d'organisation de la visite / Constitution du dossier candidat / Rédaction du\\n                bail à la charge du locataire :136.98 € TTCHonoraires de réalisation d'état des lieux à la charge du locataire :50 € TTCDépôt de garantie :716€Télécharger\\n                le barème des honorairesLes informations sur les risques auxquels ce bien est exposé sont disponibles sur le site\\n                    Géorisques :https://www.georisques.gouv.fr/                                                                                                                                                                                                                                               |Charges courantes annuelles estimées0 €Types de bienAppartementEtage2AscenseurOuiCaveOuiInterphoneOuiGardienOuiDigicodeOui |RESIDENCE DU PARCCette résidence se situe à moins 10 minutes de la faculté des sciences, l'IUT en prenant la ligne 3 (direction Moulin de la Housse), accès à la faculté des lettres et la gare de Bezannes ligne 11.Un studio entièrement meublé offrant une entrée avec un coin kitchenette meublée et équipée, une pièce principale avec un placard de rangement, une salle de douche.Dans une résidence offrant de nombreux services tel que un parking collectif, internet, une laverie, local vélo, cafétéria...Déposez votre dossier de candidature en ligne sur notre site www.nexity.fr sur lequel vous retrouverez cette annonce                                                                                                                                                                                                                                                                                                                                                                                             |Type de BienAppartementTerrain extérieurNonTerrasseOuiEtage2ème sur 2BalconNonSurface17m²Parking/ Box/ Place de stationnementNon                |Loyer (CC/ mois)383Charges/mois25  |51100      |Reims          |\n",
      "|Appartement à louer : Nice•59 m²•2 pièces                   |Pièce(s)2WC séparéOui                        |Loyer :963 CC/mois €Dont provisions de charges : 205 €/mois ou /trimestre +\\n                    régularisation annuelleHonoraires d'organisation de la visite / Constitution du dossier candidat / Rédaction du\\n                bail à la charge du locataire :587.10 € TTCHonoraires de réalisation d'état des lieux à la charge du locataire :176 € TTCDépôt de garantie :1517€Télécharger\\n                le barème des honorairesLes informations sur les risques auxquels ce bien est exposé sont disponibles sur le site\\n                    Géorisques :https://www.georisques.gouv.fr/                                                                                                                                                                                                                                            |Charges courantes annuelles estimées0 €Types de bienAppartementEtage4AscenseurOuiCaveOuiInterphoneOuiGardienOuiDigicodeOui |Disponible le 22/01/2023 - Nice Cimiez - avenue Général Estienne. Venez découvrir dans le quartier des Arènes, un appartement meublé avec beaucoup de charme, entièrement rénové en étage élevé avec ascenseur. Ce bien dispose d’un hall d’entrée, d’un séjour offrant une terrasse avec une vue dégagé sans vis-à-vis, une cuisine moderne indépendante, une chambre et une salle de douche à l’italienne. Vous trouverez à proximité une pharmacie et une école mais aussi des transports (ligne de bus n°17 et 20).                                                                                                                                                                                                                                                                                                                                                                                                                                                                                                                |Type de BienAppartementTerrain extérieurNonTerrasseOuiEtage4ème sur 4BalconNonSurface59m²Parking/ Box/ Place de stationnementNon                |Loyer (CC/ mois)963Charges/mois205 |06000      |Nice           |\n",
      "|Appartement étudiant à louer : Montpellier•24 m²•studio / T1|Pièce(s)1WC1WC séparéOui                     |Loyer :526 CC/mois €Dont provisions de charges : 64 €/mois ou /trimestre +\\n                    régularisation annuelleZone soumise à encadrement des loyers :Loyer de base (loyer hors charges) : 462\\n                        €/moisLoyer de référence majoré (loyer de base à ne pas dépasser) :\\n                        529 €/moisComplément de loyer : 0 €/moisHonoraires d'organisation de la visite / Constitution du dossier candidat / Rédaction du\\n                bail à la charge du locataire :237.48 € TTCHonoraires de réalisation d'état des lieux à la charge du locataire :71 € TTCDépôt de garantie :924€Télécharger\\n                le barème des honorairesLes informations sur les risques auxquels ce bien est exposé sont disponibles sur le site\\n                    Géorisques :https://www.georisques.gouv.fr/ |Charges courantes annuelles estimées0 €Types de bienAppartementEtage2AscenseurOuiCaveOuiInterphoneOuiGardienOuiDigicodeOui |Rue du Pioch  de Boutonnet , dans une résidence étudiante sécurisée avec gardien et services : laverie, salle de sport, salle de TV, solarium , Studio meublé avec balcon situé au 2éme étage avec ascenseur composé d'une pièce à vivre avec tout le confort nécessaire donnant sur une petite terrasse. , kitchenette équipée de plaques de cuisson et frigo top , salle d'eau avec wc,  Place de stationnement en sous-sol .Proche de toutes commodités: commerce de proximité, tram 1 arrêt Stade Philippidés à 15 min à pieds, ou tram 2 arrêt Jeu de mail des Abbés à 10 min, collège St François d'assise, école des beaux-arts, centre ville.Déposez votre dossier en ligne sur notre site Nexity. Nous pourrons vous proposer une visite.                                                                                                                                                                                                                                                                                     |Type de BienAppartementTerrain extérieurNonOrientationSud/EstTerrasseOuiEtage2ème sur 2BalconNonSurface24m²Parking/ Box/ Place de stationnement1|Loyer (CC/ mois)526Charges/mois64  |NA         |34000          |\n",
      "|Appartement à louer : Aix-en-Provence•32 m²•2 pièces        |Pièce(s)2Chambre(s)1WC1WC séparéOui          |Loyer :629 CC/mois €Dont provisions de charges : 11 €/mois ou /trimestre +\\n                    régularisation annuelleHonoraires d'organisation de la visite / Constitution du dossier candidat / Rédaction du\\n                bail à la charge du locataire :279.29 € TTCHonoraires de réalisation d'état des lieux à la charge du locataire :83 € TTCDépôt de garantie :1236€Télécharger\\n                le barème des honorairesLes informations sur les risques auxquels ce bien est exposé sont disponibles sur le site\\n                    Géorisques :https://www.georisques.gouv.fr/                                                                                                                                                                                                                                              |Charges courantes annuelles estimées0 €Types de bienAppartementEtage3AscenseurOuiCaveOuiInterphoneOuiGardienOuiDigicodeOui |Beau T2 duplex, meublé, ensoleillé, double vitrage coin cuisine équipée partie séjour chambre en mezzanine avec belle hauteur sous plafond, placard salle de bain+WC. C 25.+ EAU                                                                                                                                                                                                                                                                                                                                                                                                                                                                                                                                                                                                                                                                                                                                                                                                                                                       |Type de BienAppartementTerrain extérieurNonTerrasseOuiEtage3ème sur 3BalconNonSurface32m²Parking/ Box/ Place de stationnementNon                |Loyer (CC/ mois)629Charges/mois11  |13100      |Aix-en-Provence|\n",
      "|Appartement à louer : Toulouse•52 m²•2 pièces               |Pièce(s)2Chambre(s)1WC1WC séparéOui          |Loyer :989 CC/mois €Dont provisions de charges : 70 €/mois ou /trimestre +\\n                    régularisation annuelleHonoraires d'organisation de la visite / Constitution du dossier candidat / Rédaction du\\n                bail à la charge du locataire :510.08 € TTCHonoraires de réalisation d'état des lieux à la charge du locataire :152 € TTCDépôt de garantie :1838€Télécharger\\n                le barème des honorairesLes informations sur les risques auxquels ce bien est exposé sont disponibles sur le site\\n                    Géorisques :https://www.georisques.gouv.fr/                                                                                                                                                                                                                                             |Charges courantes annuelles estimées0 €Types de bienAppartementEtage5AscenseurOuiCaveOuiInterphoneOuiGardienOuiDigicodeOui |Alsace Lorraine, dans immeuble Haussmannien, très bel appartement deux pièces meublé  situé au 5eme  et dernier étage avec ascenseur. Comprenant un séjour avec cuisine américaine totalement aménagée et équipée, une chambre, une salle de  bains, belle décoration, prestations de qualité.Idéalement situé avec toutes commodités à proximité.Déposez votre dossier de candidature en ligne sur notre site Nexity, vous y retrouverez cette annonce                                                                                                                                                                                                                                                                                                                                                                                                                                                                                                                                                                                |Type de BienAppartementTerrain extérieurNonTerrasseOuiEtage5ème sur 5BalconOuiSurface52m²Parking/ Box/ Place de stationnementNon                |Loyer (CC/ mois)989Charges/mois70  |31000      |Toulouse       |\n",
      "|Appartement à louer : Moûtiers•31 m²•studio / T1            |Pièce(s)1WC séparéOui                        |Loyer :394 CC/mois €Dont provisions de charges : 45 €/mois ou /trimestre +\\n                    régularisation annuelleHonoraires d'organisation de la visite / Constitution du dossier candidat / Rédaction du\\n                bail à la charge du locataire :248.20 € TTCHonoraires de réalisation d'état des lieux à la charge du locataire :93 € TTCDépôt de garantie :699€Télécharger\\n                le barème des honorairesLes informations sur les risques auxquels ce bien est exposé sont disponibles sur le site\\n                    Géorisques :https://www.georisques.gouv.fr/                                                                                                                                                                                                                                               |Charges courantes annuelles estimées0 €Types de bienAppartementEtage3AscenseurOuiCaveOuiInterphoneOuiGardienOuiDigicodeOui |CENTRE DE MOUTIERS, Très grand studio meublé d'une superficie de 31.02 m2 comprenant une grande pièce à vivre avec une cuisine meublée, un balcon, une entrée, une salle de bain et un toilette séparé.La provision comprend les charges de copropriété. « Déposez votre dossier en ligne sur notre site, nous pourrons vous proposer ce bien » LOCATION LONGUE DUREE UNIQUEMENT.« Les informations sur les risques auxquels ce bien est exposé sont disponibles sur le site Géorisques : www.georisques.gouv.fr ».                                                                                                                                                                                                                                                                                                                                                                                                                                                                                                                    |Type de BienAppartementTerrain extérieurNonTerrasseOuiEtage3ème sur 3BalconNonSurface31m²Parking/ Box/ Place de stationnementNon                |Loyer (CC/ mois)394Charges/mois45  |73600      |Moûtiers       |\n",
      "|Appartement à louer : Paris 17•19 m²•studio / T1            |Pièce(s)1WC séparéNonType ChauffageIndividuel|Loyer :795 CC/mois €Dont provisions de charges : 75 €/mois ou /trimestre +\\n                    régularisation annuelleHonoraires d'organisation de la visite / Constitution du dossier candidat / Rédaction du\\n                bail à la charge du locataire :290.10 € TTCHonoraires de réalisation d'état des lieux à la charge du locataire :0 € TTCDépôt de garantie :720€Télécharger\\n                le barème des honorairesLes informations sur les risques auxquels ce bien est exposé sont disponibles sur le site\\n                    Géorisques :https://www.georisques.gouv.fr/                                                                                                                                                                                                                                                |Charges courantes annuelles estimées0 €Types de bienAppartementEtage1AscenseurOuiCaveOuiInterphoneNonGardienOuiDigicodeOui |PARIS 17, METRO Ligne 13 La Fourche.Au sein d'un petit immeuble bien entretenu, situé en rez-de-chaussée sur rue.Ce studio meublé, bien proportionné est composé d'une entrée avec une cuisine tout équipée, une SDD avec WC, un placard, un séjour avec une table pliable, 2 chaises, un canapé convertible.Double vitrage, chauffage et eau chaude électrique.Electroménager : Réfrigérateur, plaque de cuisson, four micro-onde, lave-linge.Mentions complémentaires : dont charges récupérables 75€ / zone soumise à encadrement des loyers / loyer de réf. majoré 752.33€ HC / DG 1500€ / Hono Alur 232.08€ TTC + EDLE 58.02€ TTC                                                                                                                                                                                                                                                                                                                                                                                                 |Type de BienAppartementTerrain extérieurNonTerrasseNonEtageRDCBalconNonSurface19m²Parking/ Box/ Place de stationnementNon                       |Loyer (CC/ mois)795Charges/mois75  |75017      |Paris 17       |\n",
      "|Appartement à louer : Paris 16•37 m²•2 pièces               |Pièce(s)2Chambre(s)1WC séparéNon             |Loyer :1 395 CC/mois €Dont provisions de charges : 160 €/mois ou /trimestre +\\n                    régularisation annuelleHonoraires d'organisation de la visite / Constitution du dossier candidat / Rédaction du\\n                bail à la charge du locataire :554.85 € TTCHonoraires de réalisation d'état des lieux à la charge du locataire :0 € TTCDépôt de garantie :1235€Télécharger\\n                le barème des honorairesLes informations sur les risques auxquels ce bien est exposé sont disponibles sur le site\\n                    Géorisques :https://www.georisques.gouv.fr/                                                                                                                                                                                                                                            |Charges courantes annuelles estimées0 €Types de bienAppartementAscenseurOuiCaveOuiInterphoneNonGardienOuiDigicodeOui       |Proches transports (Métro ligne 9 « Porte de Saint Cloud) et commercesA proximité de la porte de Saint-Cloud, du marché et du métro Porte de Saint-CloudNous vous proposons un beau 2 pièces meublé entièrement rénové de 36.99m2 clair et ensoleillé en plein cœur du 16ème arrondissement au niveau de l’avenue de Versailles, situé au 2ème étage sans ascenseur, composé d’une entrée, un séjour, une chambre, une SDB avec WC et une cuisine séparée et équipée.Chauffages et eau chaude collectifs, parquet et cheminée et gardienne.Mentions complémentaires : dont charges récupérables 160€ / zone soumise à encadrement des loyers / loyer de réf. majoré 1191.08€ HC / DG 2470€ / Hono Alur 455.99€ TTC + EDLE 113.99€ TTChttps://www.georisques.gouv.fr/                                                                                                                                                                                                                                                                   |Type de BienAppartementTerrain extérieurNonTerrasseNonEtage2BalconNonSurface37m²Parking/ Box/ Place de stationnementNon                         |Loyer (CC/ mois)1395Charges/mois160|75016      |Paris 16       |\n",
      "+------------------------------------------------------------+---------------------------------------------+----------------------------------------------------------------------------------------------------------------------------------------------------------------------------------------------------------------------------------------------------------------------------------------------------------------------------------------------------------------------------------------------------------------------------------------------------------------------------------------------------------------------------------------------------------------------------------------------------------------------------------------------------------------------------------------------------------------------------------------------------------------------------------------------------------------------------------------------+---------------------------------------------------------------------------------------------------------------------------+---------------------------------------------------------------------------------------------------------------------------------------------------------------------------------------------------------------------------------------------------------------------------------------------------------------------------------------------------------------------------------------------------------------------------------------------------------------------------------------------------------------------------------------------------------------------------------------------------------------------------------------------------------------------------------------------------------------------------------------------------------------------------------------------------------------------------------------------------------------------------------------------------------------------------------------------------------------------------------------------------------------------------------------+------------------------------------------------------------------------------------------------------------------------------------------------+-----------------------------------+-----------+---------------+\n",
      "only showing top 20 rows\n",
      "\n"
     ]
    }
   ],
   "source": [
    "data.show(truncate=False)"
   ]
  },
  {
   "cell_type": "markdown",
   "metadata": {
    "id": "QCHg8Z1aXbrz"
   },
   "source": [
    "## Création de variables"
   ]
  },
  {
   "cell_type": "markdown",
   "metadata": {
    "id": "43b-rSzkr4Yy"
   },
   "source": [
    "A partir des premières variables sélectionnées, nous allons recontruire les variables dont nous souhaitons disposer pour nos analyses."
   ]
  },
  {
   "cell_type": "markdown",
   "metadata": {
    "id": "t2NSWQG7sDlb"
   },
   "source": [
    "## Titre\n",
    "\n",
    "De cette variable, nous allons extraire : le type du logement, la localisation, le loyer, la superficie et le nombre de pièces."
   ]
  },
  {
   "cell_type": "code",
   "execution_count": null,
   "metadata": {
    "id": "XrI36lCdyt-U"
   },
   "outputs": [],
   "source": [
    "# Extraction du type du logement \n",
    "L1 = F.split(data['Titre'], 'à')\n",
    "data = data.withColumn('Type',L1.getItem(0))\n",
    "\n",
    "# Extraction de la localisation\n",
    "L2 = F.split(data['Titre'], ':')\n",
    "data = data.withColumn('var1',L2.getItem(1))\n",
    "L3 = F.split(data['var1'], '•')\n",
    "\n",
    "data = data.withColumn('Dep',L3.getItem(0))\n",
    "\n",
    "# Extraction de la superficie\n",
    "data = data.withColumn('Sperficie',L3.getItem(1))\n",
    "L4 = F.split(data['Sperficie'], ' ')\n",
    "data = data.withColumn('Superficie',L4.getItem(0)) # Je ne garde que les dimensions (les chiffres)\n",
    "\n",
    "# Extraction du nombre de pièces\n",
    "data = data.withColumn('piece',L3.getItem(2))\n",
    "data = data.withColumn('piece', regexp_replace('piece', 'studio / T1', '1 pièce')) # Les studio / T1 ont une seule pièce\n",
    "L5 = F.split(data['piece'], ' ')\n",
    "data = data.withColumn('nb_piece',L5.getItem(0)) # Je garde que les chiffres"
   ]
  },
  {
   "cell_type": "markdown",
   "metadata": {
    "id": "p4h5TTaIuMDP"
   },
   "source": [
    "## Loyer_Charge\n",
    "\n",
    "Comme son titre l'indique, nous allons extraire de cette colonne le loyer et les charges pour chaque logement. <br/> Chaque cellule contient un ou deux montants. Le premier concerne le loyer et le deuxième, les charges. Quand nous avons un seul montant, celui-ci correspond au loyer."
   ]
  },
  {
   "cell_type": "code",
   "execution_count": null,
   "metadata": {
    "id": "pefaT3QHpTHm"
   },
   "outputs": [],
   "source": [
    "# Extraction du loyer\n",
    "L6 = F.regexp_extract('Loyer_Charge', r'(\\d+)',1)\n",
    "data = data.withColumn('loyer', L6)\n",
    "\n",
    "# Extraction de la charge\n",
    "L7 = F.regexp_extract('Loyer_Charge', r'(\\d+)Charges/mois(\\d+)', 2)\n",
    "data = data.withColumn('charges', L7)"
   ]
  },
  {
   "cell_type": "markdown",
   "metadata": {
    "id": "dm49cUXIvKL5"
   },
   "source": [
    "## Bareme\n",
    "\n",
    "Cette colonne contient des informations nous disposons déjà comme le loyer, les charges et bien d'autres. Elle contient également d'autres informations comme les conditions d'attribution du logement. <br/> Nous récupérons de cette colonne uniquement le montant à payer pour le dépôt de la garantie."
   ]
  },
  {
   "cell_type": "code",
   "execution_count": null,
   "metadata": {
    "id": "LqI7CC8YzIrl"
   },
   "outputs": [],
   "source": [
    "# Extraction de la garantie\n",
    "L8 = F.regexp_extract('Bareme', r'Dépôt de garantie :(\\d+)', 1)\n",
    "data = data.withColumn('Garantie', L8)"
   ]
  },
  {
   "cell_type": "markdown",
   "metadata": {
    "id": "CpzAlTKFv1xB"
   },
   "source": [
    "## Amenagement\n",
    "\n",
    "Cette colonne contient quelques informations sur le logement. Ces informations ne sont pas toujours disponibles pour tous les logements. Avec l'utlisation des regex nous aurons donc des valeurs manquantes pour les éléments qui n'y figurent pas."
   ]
  },
  {
   "cell_type": "code",
   "execution_count": null,
   "metadata": {
    "id": "PCMck4Bjz8Q8"
   },
   "outputs": [],
   "source": [
    "# WC séparé  (Oui/Non)\n",
    "L9 = F.regexp_extract('Amenagement', r'WC séparé(\\w{3})', 1)\n",
    "data = data.withColumn('WC_separe', L9)"
   ]
  },
  {
   "cell_type": "code",
   "execution_count": null,
   "metadata": {
    "id": "I55DCK-50uAp"
   },
   "outputs": [],
   "source": [
    "# Type de chauffage (Collectif / Individuel)\n",
    "L10 = F.regexp_extract('Amenagement', r'Chauffage(\\w+)', 1)\n",
    "data = data.withColumn('Chauffage', L10)"
   ]
  },
  {
   "cell_type": "markdown",
   "metadata": {
    "id": "oV0IjyzUy2yc"
   },
   "source": [
    "## Essentiel \n",
    "\n",
    "Nous obtiendrons, à partir de cette variable, des informations complémentaires sur les caractéristiques des logements."
   ]
  },
  {
   "cell_type": "code",
   "execution_count": null,
   "metadata": {
    "id": "iUQLnGX15tsj"
   },
   "outputs": [],
   "source": [
    "# Présence d'un terrain extérieur\n",
    "L11 = F.regexp_extract('Essentiel', r'Terrain extérieur(\\w{3})', 1)\n",
    "data = data.withColumn('Terrain_extérieur', L11)\n",
    "\n",
    "# Présence d'une terrase\n",
    "L12 = F.regexp_extract('Essentiel', r'Terrasse(\\w{3})', 1)\n",
    "data = data.withColumn('Terrasse', L12)\n",
    "\n",
    "# Présence d'un balcon\n",
    "L13 = F.regexp_extract('Essentiel', r'Balcon(\\w{3})', 1)\n",
    "data = data.withColumn('Balcon', L13)\n",
    "\n",
    "# Disponibilité de place de stationnement\n",
    "L14 = F.regexp_extract('Essentiel', r'stationnement(\\w{3})', 1)\n",
    "data = data.withColumn('stationnement', L14)"
   ]
  },
  {
   "cell_type": "markdown",
   "metadata": {
    "id": "sNyIHWlbxZJa"
   },
   "source": [
    "## Copropiété\n",
    "\n",
    "Cette colonne également nous permet d'avoir plus d'informations sur les caractéristiques communes aux logements d'un immeuble ou encore les informations relatives à l'emplacement du logement. <br/>\n",
    "Notons que certaines informations seront manquantes car elles ne concernent qu'un type de logement particulier."
   ]
  },
  {
   "cell_type": "code",
   "execution_count": null,
   "metadata": {
    "id": "5T7nidUw2cN_"
   },
   "outputs": [],
   "source": [
    "# Numéro d'étage\n",
    "L15 = F.regexp_extract('Copropriete', r'Etage(\\d{1,})', 1)\n",
    "data = data.withColumn('Etage', L15)\n",
    "\n",
    "# Présence d'ascenceur\n",
    "L16 = F.regexp_extract('Copropriete', r'Ascenseur(\\w{3})', 1)\n",
    "data = data.withColumn('Ascenseur', L16)\n",
    "\n",
    "# Présence de cave\n",
    "L17 = F.regexp_extract('Copropriete', r'Cave(\\w{3})', 1)\n",
    "data = data.withColumn('Cave', L17)\n",
    "\n",
    "# Disponibilité d'un interphone\n",
    "L18 = F.regexp_extract('Copropriete', r'Interphone(\\w{3})', 1)\n",
    "data = data.withColumn('Interphone', L18)\n",
    "\n",
    "# Présence d'un gardien\n",
    "L19 = F.regexp_extract('Copropriete', r'Gardien(\\w{3})', 1)\n",
    "data = data.withColumn('Gardien', L19)\n",
    "\n",
    "# Présence d'un digicode\n",
    "L20 = F.regexp_extract('Copropriete', r'Digicode(\\w{3})', 1)\n",
    "data = data.withColumn('Digicode', L20)"
   ]
  },
  {
   "cell_type": "markdown",
   "metadata": {
    "id": "S7EIVpYZz8Uq"
   },
   "source": [
    "## Code Postal\n",
    "\n",
    "Nous avons remarqué que pour certaines observations, l'informations concernant le code postal est indisponible dans une colonne mais présente dans une autre. Nous allons donc récupéré l'information de cette colonne."
   ]
  },
  {
   "cell_type": "code",
   "execution_count": null,
   "metadata": {
    "id": "ZSoLR1oNBZpT"
   },
   "outputs": [],
   "source": [
    "data = data.withColumn(\"Code_postal\", expr(\"CASE WHEN Code_postal == 'NA' THEN Departement ELSE Code_postal END\"))\n",
    "data = data.withColumn('Code_dep', substring('Code_postal', 1,2))"
   ]
  },
  {
   "cell_type": "markdown",
   "metadata": {
    "id": "g5-FMySW0SYw"
   },
   "source": [
    "## Réorganisation de la base de données\n",
    "\n",
    "Après avoir obtenu les variables dont nous avons besoin, nous supprimons les anciennes ainsi que les variables intermédiaires construites."
   ]
  },
  {
   "cell_type": "code",
   "execution_count": null,
   "metadata": {
    "id": "-rhbY5O-Anl_"
   },
   "outputs": [],
   "source": [
    "# Supression des colonnes \n",
    "data = data.drop(*('Titre','Amenagement','Bareme','copropriete','Essentiel','Loyer_charge','var1','Sperficie', 'piece', 'Departement'))\n",
    "\n",
    "# Réorganisation de l'ordre des variables\n",
    "data = data.select('Type', 'Dep', 'Code_dep', 'Code_postal', 'loyer', 'charges', 'Superficie', 'nb_piece', 'Garantie', 'Etage', 'Ascenseur', 'WC_separe',\n",
    "                   'Cave', 'Interphone', 'Gardien', 'Digicode', 'Terrain_extérieur', 'Terrasse', 'Balcon', 'stationnement','Chauffage', 'Description')"
   ]
  },
  {
   "cell_type": "code",
   "execution_count": null,
   "metadata": {
    "colab": {
     "base_uri": "https://localhost:8080/"
    },
    "executionInfo": {
     "elapsed": 543,
     "status": "ok",
     "timestamp": 1674902951607,
     "user": {
      "displayName": "eunice koffi",
      "userId": "14656359532829769546"
     },
     "user_tz": -60
    },
    "id": "zIUhUdthK15D",
    "outputId": "b4657aa8-c1e3-448a-9ab6-df7d75f5a4e2"
   },
   "outputs": [
    {
     "name": "stdout",
     "output_type": "stream",
     "text": [
      "La base de données contients 1032 lignes et 22 colonnes.\n"
     ]
    }
   ],
   "source": [
    "# Dimensions de la base de données\n",
    "print(\"La base de données contients\", data.count(), \"lignes et\", len(data.columns), \"colonnes.\")"
   ]
  },
  {
   "cell_type": "code",
   "execution_count": null,
   "metadata": {
    "colab": {
     "base_uri": "https://localhost:8080/"
    },
    "executionInfo": {
     "elapsed": 609,
     "status": "ok",
     "timestamp": 1674902952213,
     "user": {
      "displayName": "eunice koffi",
      "userId": "14656359532829769546"
     },
     "user_tz": -60
    },
    "id": "qHvJUDZIyt6s",
    "outputId": "bb27b4ff-7ce2-4575-8058-c445a5aa8695"
   },
   "outputs": [
    {
     "name": "stdout",
     "output_type": "stream",
     "text": [
      "+---------------------+----------------+--------+-----------+-----+-------+----------+--------+--------+-----+---------+---------+----+----------+-------+--------+-----------------+--------+------+-------------+----------+---------------------------------------------------------------------------------------------------------------------------------------------------------------------------------------------------------------------------------------------------------------------------------------------------------------------------------------------------------------------------------------------------------------------------------------------------------------------------------------------------------------------------------------------------------------------------------------------------------------------------------------------------------------------------------------------------------------------------------------------------------------------------------------------------------------------------------------------------------------------------------------------------------------------------------------------------------------------------------------------------------------------------------------+\n",
      "|Type                 |Dep             |Code_dep|Code_postal|loyer|charges|Superficie|nb_piece|Garantie|Etage|Ascenseur|WC_separe|Cave|Interphone|Gardien|Digicode|Terrain_extérieur|Terrasse|Balcon|stationnement|Chauffage |Description                                                                                                                                                                                                                                                                                                                                                                                                                                                                                                                                                                                                                                                                                                                                                                                                                                                                                                                                                                                                                            |\n",
      "+---------------------+----------------+--------+-----------+-----+-------+----------+--------+--------+-----+---------+---------+----+----------+-------+--------+-----------------+--------+------+-------------+----------+---------------------------------------------------------------------------------------------------------------------------------------------------------------------------------------------------------------------------------------------------------------------------------------------------------------------------------------------------------------------------------------------------------------------------------------------------------------------------------------------------------------------------------------------------------------------------------------------------------------------------------------------------------------------------------------------------------------------------------------------------------------------------------------------------------------------------------------------------------------------------------------------------------------------------------------------------------------------------------------------------------------------------------------+\n",
      "|Appartement          | Toulouse       |31      |31000      |650  |30     |22        |1       |1240    |1    |Oui      |Oui      |Oui |Oui       |Oui    |Oui     |Non              |Oui     |Non   |Non          |          |Plein centre ville, en chartreuse au 1 er étage ce charmant T1 tout équipé  a été rénové récemment avec beaucoup de goût : cuisine complétement équipée , séjour avec table, chaises, rangements,  lit en 140, salle d'eau avec toilette et douche à l'italienne.                                                                                                                                                                                                                                                                                                                                                                                                                                                                                                                                                                                                                                                                                                                                                                      |\n",
      "|Appartement          | Reims          |51      |51100      |450  |40     |27        |1       |820     |1    |Oui      |Oui      |Oui |Oui       |Oui    |Oui     |Non              |Oui     |Non   |Non          |          |hyper centre - place d'Erlon Un appartement meublé situé au premier étage comprenant une pièce principale avec kitchenette (plaques électriques, réfrigérateur), une salle de douche avec wc. Le chauffage est individuel électrique.                                                                                                                                                                                                                                                                                                                                                                                                                                                                                                                                                                                                                                                                                                                                                                                                  |\n",
      "|Appartement          | Valenciennes   |59      |59300      |409  |25     |18        |1       |768     |3    |Oui      |Oui      |Oui |Oui       |Oui    |Oui     |Non              |Oui     |Non   |Non          |          |Pas de descriptif                                                                                                                                                                                                                                                                                                                                                                                                                                                                                                                                                                                                                                                                                                                                                                                                                                                                                                                                                                                                                      |\n",
      "|Appartement étudiant | Avignon        |84      |84000      |490  |48     |25        |1       |884     |2    |Oui      |Oui      |Oui |Oui       |Oui    |Oui     |Non              |Oui     |Oui   |Non          |          |AVIGNON AGROPARC - Idéal pour étudiant ou jeune salarié. Dans une résidence étudiante et sécurisée avec gardien, laverie, dans un environnement verdoyant et calme, venez visiter studio de 24 m² comprenant un séjour, une salle de bain avec WC, un coin kitchenette équipé et un balcon. Proche de toutes commodités : lignes de bus(lignes 7,15,20 et 3), magasins, restaurants, écoles.  parking privatif extérieur, terrain multisports.Déposez votre dossier en ligne sur www.nexity.fr nous vous recontacterons dans les meilleurs délais                                                                                                                                                                                                                                                                                                                                                                                                                                                                                      |\n",
      "|Appartement          | Pessac         |33      |33600      |632  |40     |21        |1       |1077    |2    |Oui      |Oui      |Oui |Oui       |Oui    |Oui     |Non              |Oui     |Non   |Non          |          |PESSAC - Au coeur du domaine universitaire, à deux pas du tram B et de la ligne de bus 10, nous vous proposons cet agréable studio dans une résidence de standing, composé d'un séjour lumineux, un espace bureau et un coin cuisine entièrement aménagé et fonctionnel. Cet appartement est  conçu pour vous permettre un séjour des plus agréables. Vous disposerez d'une laverie et d'un emplacement de parking en sous-sol et d'un accès internet avec modem  individuel. Appartement libre à la location à compter du 17/12/2022                                                                                                                                                                                                                                                                                                                                                                                                                                                                                                  |\n",
      "|Appartement          | Talence        |33      |33400      |1155 |55     |69        |3       |2200    |5    |Oui      |Oui      |Oui |Oui       |Oui    |Oui     |Non              |Oui     |Oui   |Non          |          |Talence  Lamartine - Tram et Commerces à proximité -  Dans Résidence Arborée et sécurisée, nous vous proposons de visiter cet appartement de type 3 pièces entièrement meublé situé au 5ème et dernier étage avec ascenseur, composé d'une entrée spacieuse avec de nombreux rangements, une cuisine indépendante aménagée et équipée, un séjour lumineux, de deux chambres, d'une salle de bains et dressing, le tout donnant sur un long balcon avec vue dégagée. Cave et emplacement de parking à disposition.Disponibilité immédiate.                                                                                                                                                                                                                                                                                                                                                                                                                                                                                              |\n",
      "|Appartement          | Reims          |51      |51100      |502  |15     |24        |1       |974     |1    |Oui      |Oui      |Oui |Oui       |Oui    |Oui     |Non              |Oui     |Non   |Non          |          |Hyper Centre rue des Elus.Studio meublé au premier étage. Idéalement situé comprenant une pièce principale avec coin kitchenette. Une salle de douche avec wc.Chauffage électrique individuel.                                                                                                                                                                                                                                                                                                                                                                                                                                                                                                                                                                                                                                                                                                                                                                                                                                         |\n",
      "|Appartement          | Reims          |51      |51100      |402  |50     |18        |1       |704     |2    |Oui      |Oui      |Oui |Oui       |Oui    |Oui     |Non              |Oui     |Non   |Non          |          |Résidence Farman Dans une résidence de qualité offrant de nombreux services tel que internet en wifi, gardiennage, parking collectif, laverie...Un studio meublé offrant une entrée avec un coin kitchenette meublée et équipée, une pièce principale avec un placard de rangement, une salle de douches avec wc Meubles : bureau, table, chaises, clic clac, placard de rangement, étagère TV.Moins 10 minutes de la faculté des science, l'IUT en prenant la ligne 3 (direction Moulin de la Housse), accès à la faculté des lettre et la gare de Bezannes ligne 11.                                                                                                                                                                                                                                                                                                                                                                                                                                                                 |\n",
      "|Appartement          | Grenoble       |38      |38000      |1780 |80     |115       |4       |3400    |1    |Oui      |Oui      |Oui |Oui       |Oui    |Oui     |Non              |Oui     |Oui   |Non          |          |EXCEPTIONNEL - Pas de frais de location, ni de frais d'état des lieux - GRENOBLE - Centre ville - Bd Gambetta - Venez visiter cet agréable appartement meublé 4P+C  115.37 M² disposant du charme de l'ancien (jolis parquets, mosaïques anciennes rénovées au sol, cheminées d'ornement, staff, corniches). Il est situé au 1er étage avec ascenseur. l'appartement est composé d'un hall, un dressing et de nombreux rangements, une cuisine (tous les électroménagers sont neufs), un séjour, trois chambres, une salle d'eau (grande douche, meuble vasque, miroir, sèche serviettes, lave-linge/sèche linge neuf). Double vitrage PVC. Le chauffage et l'eau chaude sont individuels électriques, eau froide individuelle. En dépendance un grand grenier. Visite virtuelle disponible sur notre site !  « Déposez votre dossier en ligne sur notre site, nous pourrons vous proposer ce bien » « Les informations sur les risques auxquels ce bien est exposé sont disponibles sur le site Géorisques : www.georisques.gouv.fr ».|\n",
      "|Appartement          | Auxerre        |89      |89000      |354  |14     |17        |1       |680     |3    |Oui      |Oui      |Oui |Oui       |Oui    |Oui     |Non              |Oui     |Non   |             |          |Dans une résidence tranquille au 3e étage, meublé avec entrée dans pièce principale équipé d'un coin cuisine avec éléments hauts, plaques électrique, frigo, micro-onde, hotte, table, chaises, une armoire, un sommier une personne, une salle d'eau avec wc, un emplacement de parking - chauffage individuel électrique.                                                                                                                                                                                                                                                                                                                                                                                                                                                                                                                                                                                                                                                                                                            |\n",
      "|Appartement étudiant | Lille          |59      |59564      |570  |110    |28        |1       |921     |12   |Oui      |Oui      |Oui |Oui       |Oui    |Oui     |Non              |Oui     |Non   |Non          |          |L'idéal pour un étudiant, ne cherchez plusAu coeur d'Euralille, appartement en résidence étudiante sécurisée.Toutes les commodités au pied de la résidence.Cuisine équipéeN'hésitez pas à nous contacter pour plus d'information ou pour le visiter                                                                                                                                                                                                                                                                                                                                                                                                                                                                                                                                                                                                                                                                                                                                                                                    |\n",
      "|Appartement          | Reims          |51      |51100      |590  |30     |38        |2       |1120    |1    |Oui      |Oui      |Oui |Oui       |Oui    |Oui     |Non              |Oui     |Non   |Non          |          |Secteur Gambetta - rue Saint Maurice A deux pas de Sciences Po, des lignes de bus 4 et 6, et des commerces de proximité : Un appartement type 2 entièrement meublé et rénové offrant une entrée, un séjour, une chambre, une cuisine meublée et équipée (plaques vitrocéramiques, hotte, réfrigérateur), une salle de bains, un wc. Une cave.Chauffage électrique individuel                                                                                                                                                                                                                                                                                                                                                                                                                                                                                                                                                                                                                                                           |\n",
      "|Appartement          | Reims          |51      |51100      |383  |25     |17        |1       |716     |2    |Oui      |Oui      |Oui |Oui       |Oui    |Oui     |Non              |Oui     |Non   |Non          |          |RESIDENCE DU PARCCette résidence se situe à moins 10 minutes de la faculté des sciences, l'IUT en prenant la ligne 3 (direction Moulin de la Housse), accès à la faculté des lettres et la gare de Bezannes ligne 11.Un studio entièrement meublé offrant une entrée avec un coin kitchenette meublée et équipée, une pièce principale avec un placard de rangement, une salle de douche.Dans une résidence offrant de nombreux services tel que un parking collectif, internet, une laverie, local vélo, cafétéria...Déposez votre dossier de candidature en ligne sur notre site www.nexity.fr sur lequel vous retrouverez cette annonce                                                                                                                                                                                                                                                                                                                                                                                             |\n",
      "|Appartement          | Nice           |06      |06000      |963  |205    |59        |2       |1517    |4    |Oui      |Oui      |Oui |Oui       |Oui    |Oui     |Non              |Oui     |Non   |Non          |          |Disponible le 22/01/2023 - Nice Cimiez - avenue Général Estienne. Venez découvrir dans le quartier des Arènes, un appartement meublé avec beaucoup de charme, entièrement rénové en étage élevé avec ascenseur. Ce bien dispose d’un hall d’entrée, d’un séjour offrant une terrasse avec une vue dégagé sans vis-à-vis, une cuisine moderne indépendante, une chambre et une salle de douche à l’italienne. Vous trouverez à proximité une pharmacie et une école mais aussi des transports (ligne de bus n°17 et 20).                                                                                                                                                                                                                                                                                                                                                                                                                                                                                                                |\n",
      "|Appartement étudiant | Montpellier    |34      |34000      |526  |64     |24        |1       |924     |2    |Oui      |Oui      |Oui |Oui       |Oui    |Oui     |Non              |Oui     |Non   |             |          |Rue du Pioch  de Boutonnet , dans une résidence étudiante sécurisée avec gardien et services : laverie, salle de sport, salle de TV, solarium , Studio meublé avec balcon situé au 2éme étage avec ascenseur composé d'une pièce à vivre avec tout le confort nécessaire donnant sur une petite terrasse. , kitchenette équipée de plaques de cuisson et frigo top , salle d'eau avec wc,  Place de stationnement en sous-sol .Proche de toutes commodités: commerce de proximité, tram 1 arrêt Stade Philippidés à 15 min à pieds, ou tram 2 arrêt Jeu de mail des Abbés à 10 min, collège St François d'assise, école des beaux-arts, centre ville.Déposez votre dossier en ligne sur notre site Nexity. Nous pourrons vous proposer une visite.                                                                                                                                                                                                                                                                                     |\n",
      "|Appartement          | Aix-en-Provence|13      |13100      |629  |11     |32        |2       |1236    |3    |Oui      |Oui      |Oui |Oui       |Oui    |Oui     |Non              |Oui     |Non   |Non          |          |Beau T2 duplex, meublé, ensoleillé, double vitrage coin cuisine équipée partie séjour chambre en mezzanine avec belle hauteur sous plafond, placard salle de bain+WC. C 25.+ EAU                                                                                                                                                                                                                                                                                                                                                                                                                                                                                                                                                                                                                                                                                                                                                                                                                                                       |\n",
      "|Appartement          | Toulouse       |31      |31000      |989  |70     |52        |2       |1838    |5    |Oui      |Oui      |Oui |Oui       |Oui    |Oui     |Non              |Oui     |Oui   |Non          |          |Alsace Lorraine, dans immeuble Haussmannien, très bel appartement deux pièces meublé  situé au 5eme  et dernier étage avec ascenseur. Comprenant un séjour avec cuisine américaine totalement aménagée et équipée, une chambre, une salle de  bains, belle décoration, prestations de qualité.Idéalement situé avec toutes commodités à proximité.Déposez votre dossier de candidature en ligne sur notre site Nexity, vous y retrouverez cette annonce                                                                                                                                                                                                                                                                                                                                                                                                                                                                                                                                                                                |\n",
      "|Appartement          | Moûtiers       |73      |73600      |394  |45     |31        |1       |699     |3    |Oui      |Oui      |Oui |Oui       |Oui    |Oui     |Non              |Oui     |Non   |Non          |          |CENTRE DE MOUTIERS, Très grand studio meublé d'une superficie de 31.02 m2 comprenant une grande pièce à vivre avec une cuisine meublée, un balcon, une entrée, une salle de bain et un toilette séparé.La provision comprend les charges de copropriété. « Déposez votre dossier en ligne sur notre site, nous pourrons vous proposer ce bien » LOCATION LONGUE DUREE UNIQUEMENT.« Les informations sur les risques auxquels ce bien est exposé sont disponibles sur le site Géorisques : www.georisques.gouv.fr ».                                                                                                                                                                                                                                                                                                                                                                                                                                                                                                                    |\n",
      "|Appartement          | Paris 17       |75      |75017      |795  |75     |19        |1       |720     |1    |Oui      |Non      |Oui |Non       |Oui    |Oui     |Non              |Non     |Non   |Non          |Individuel|PARIS 17, METRO Ligne 13 La Fourche.Au sein d'un petit immeuble bien entretenu, situé en rez-de-chaussée sur rue.Ce studio meublé, bien proportionné est composé d'une entrée avec une cuisine tout équipée, une SDD avec WC, un placard, un séjour avec une table pliable, 2 chaises, un canapé convertible.Double vitrage, chauffage et eau chaude électrique.Electroménager : Réfrigérateur, plaque de cuisson, four micro-onde, lave-linge.Mentions complémentaires : dont charges récupérables 75€ / zone soumise à encadrement des loyers / loyer de réf. majoré 752.33€ HC / DG 1500€ / Hono Alur 232.08€ TTC + EDLE 58.02€ TTC                                                                                                                                                                                                                                                                                                                                                                                                 |\n",
      "|Appartement          | Paris 16       |75      |75016      |1395 |160    |37        |2       |1235    |     |Oui      |Non      |Oui |Non       |Oui    |Oui     |Non              |Non     |Non   |Non          |          |Proches transports (Métro ligne 9 « Porte de Saint Cloud) et commercesA proximité de la porte de Saint-Cloud, du marché et du métro Porte de Saint-CloudNous vous proposons un beau 2 pièces meublé entièrement rénové de 36.99m2 clair et ensoleillé en plein cœur du 16ème arrondissement au niveau de l’avenue de Versailles, situé au 2ème étage sans ascenseur, composé d’une entrée, un séjour, une chambre, une SDB avec WC et une cuisine séparée et équipée.Chauffages et eau chaude collectifs, parquet et cheminée et gardienne.Mentions complémentaires : dont charges récupérables 160€ / zone soumise à encadrement des loyers / loyer de réf. majoré 1191.08€ HC / DG 2470€ / Hono Alur 455.99€ TTC + EDLE 113.99€ TTChttps://www.georisques.gouv.fr/                                                                                                                                                                                                                                                                   |\n",
      "+---------------------+----------------+--------+-----------+-----+-------+----------+--------+--------+-----+---------+---------+----+----------+-------+--------+-----------------+--------+------+-------------+----------+---------------------------------------------------------------------------------------------------------------------------------------------------------------------------------------------------------------------------------------------------------------------------------------------------------------------------------------------------------------------------------------------------------------------------------------------------------------------------------------------------------------------------------------------------------------------------------------------------------------------------------------------------------------------------------------------------------------------------------------------------------------------------------------------------------------------------------------------------------------------------------------------------------------------------------------------------------------------------------------------------------------------------------------+\n",
      "only showing top 20 rows\n",
      "\n"
     ]
    }
   ],
   "source": [
    "data.show(truncate=False)"
   ]
  },
  {
   "cell_type": "markdown",
   "metadata": {
    "id": "1ZtSfZ3f1enX"
   },
   "source": [
    "# Traitement de la base de données"
   ]
  },
  {
   "cell_type": "code",
   "execution_count": null,
   "metadata": {
    "colab": {
     "base_uri": "https://localhost:8080/"
    },
    "executionInfo": {
     "elapsed": 12,
     "status": "ok",
     "timestamp": 1674902952214,
     "user": {
      "displayName": "eunice koffi",
      "userId": "14656359532829769546"
     },
     "user_tz": -60
    },
    "id": "oKwjPfWa1jXx",
    "outputId": "68089cef-d5bf-4982-88a3-926485e1db0a"
   },
   "outputs": [
    {
     "name": "stdout",
     "output_type": "stream",
     "text": [
      "root\n",
      " |-- Type: string (nullable = true)\n",
      " |-- Dep: string (nullable = true)\n",
      " |-- Code_dep: string (nullable = true)\n",
      " |-- Code_postal: string (nullable = true)\n",
      " |-- loyer: string (nullable = true)\n",
      " |-- charges: string (nullable = true)\n",
      " |-- Superficie: string (nullable = true)\n",
      " |-- nb_piece: string (nullable = true)\n",
      " |-- Garantie: string (nullable = true)\n",
      " |-- Etage: string (nullable = true)\n",
      " |-- Ascenseur: string (nullable = true)\n",
      " |-- WC_separe: string (nullable = true)\n",
      " |-- Cave: string (nullable = true)\n",
      " |-- Interphone: string (nullable = true)\n",
      " |-- Gardien: string (nullable = true)\n",
      " |-- Digicode: string (nullable = true)\n",
      " |-- Terrain_extérieur: string (nullable = true)\n",
      " |-- Terrasse: string (nullable = true)\n",
      " |-- Balcon: string (nullable = true)\n",
      " |-- stationnement: string (nullable = true)\n",
      " |-- Chauffage: string (nullable = true)\n",
      " |-- Description: string (nullable = true)\n",
      "\n"
     ]
    }
   ],
   "source": [
    "# Vérification du type des variables\n",
    "data.printSchema()"
   ]
  },
  {
   "cell_type": "markdown",
   "metadata": {
    "id": "jVlq-b612WQz"
   },
   "source": [
    "Nous constatons que toutes les variables sont au format str.<br/>\n",
    "Nous allons changer le type de variable."
   ]
  },
  {
   "cell_type": "code",
   "execution_count": null,
   "metadata": {
    "id": "e4FF2FT12lUm"
   },
   "outputs": [],
   "source": [
    "# Importation du type de données \n",
    "from pyspark.sql.types import IntegerType ,StringType, FloatType"
   ]
  },
  {
   "cell_type": "code",
   "execution_count": null,
   "metadata": {
    "id": "_4_s0n-75fJ8"
   },
   "outputs": [],
   "source": [
    "# Colonnes à mettre en int\n",
    "data = data.withColumn('nb_piece',data.nb_piece.cast(IntegerType()))\n",
    "\n",
    "# Variables à mettre en float\n",
    "data = data.withColumn('loyer',data.loyer.cast(FloatType()))\n",
    "data = data.withColumn('charges',data.charges.cast(FloatType()))\n",
    "data = data.withColumn('Superficie',data.Superficie.cast(FloatType()))\n",
    "data = data.withColumn('Garantie',data.Garantie.cast(FloatType()))"
   ]
  },
  {
   "cell_type": "code",
   "execution_count": null,
   "metadata": {
    "colab": {
     "base_uri": "https://localhost:8080/"
    },
    "executionInfo": {
     "elapsed": 2,
     "status": "ok",
     "timestamp": 1674902953312,
     "user": {
      "displayName": "eunice koffi",
      "userId": "14656359532829769546"
     },
     "user_tz": -60
    },
    "id": "SAfdLAZ26KMp",
    "outputId": "6e4e28d1-9ade-46da-e1ae-6866dbc660e9"
   },
   "outputs": [
    {
     "name": "stdout",
     "output_type": "stream",
     "text": [
      "root\n",
      " |-- Type: string (nullable = true)\n",
      " |-- Dep: string (nullable = true)\n",
      " |-- Code_dep: string (nullable = true)\n",
      " |-- Code_postal: string (nullable = true)\n",
      " |-- loyer: float (nullable = true)\n",
      " |-- charges: float (nullable = true)\n",
      " |-- Superficie: float (nullable = true)\n",
      " |-- nb_piece: integer (nullable = true)\n",
      " |-- Garantie: float (nullable = true)\n",
      " |-- Etage: string (nullable = true)\n",
      " |-- Ascenseur: string (nullable = true)\n",
      " |-- WC_separe: string (nullable = true)\n",
      " |-- Cave: string (nullable = true)\n",
      " |-- Interphone: string (nullable = true)\n",
      " |-- Gardien: string (nullable = true)\n",
      " |-- Digicode: string (nullable = true)\n",
      " |-- Terrain_extérieur: string (nullable = true)\n",
      " |-- Terrasse: string (nullable = true)\n",
      " |-- Balcon: string (nullable = true)\n",
      " |-- stationnement: string (nullable = true)\n",
      " |-- Chauffage: string (nullable = true)\n",
      " |-- Description: string (nullable = true)\n",
      "\n"
     ]
    }
   ],
   "source": [
    "# Vérification du type des variables\n",
    "data.printSchema()"
   ]
  },
  {
   "cell_type": "code",
   "execution_count": null,
   "metadata": {
    "colab": {
     "base_uri": "https://localhost:8080/"
    },
    "executionInfo": {
     "elapsed": 684,
     "status": "ok",
     "timestamp": 1674902954161,
     "user": {
      "displayName": "eunice koffi",
      "userId": "14656359532829769546"
     },
     "user_tz": -60
    },
    "id": "_AN9fhyq7CXk",
    "outputId": "4566c38c-add2-49e2-e793-76da7d3e5825"
   },
   "outputs": [
    {
     "name": "stdout",
     "output_type": "stream",
     "text": [
      "+--------------------+----------------+--------+-----------+------+-------+----------+--------+--------+-----+---------+---------+----+----------+-------+--------+-----------------+--------+------+-------------+----------+--------------------+\n",
      "|                Type|             Dep|Code_dep|Code_postal| loyer|charges|Superficie|nb_piece|Garantie|Etage|Ascenseur|WC_separe|Cave|Interphone|Gardien|Digicode|Terrain_extérieur|Terrasse|Balcon|stationnement| Chauffage|         Description|\n",
      "+--------------------+----------------+--------+-----------+------+-------+----------+--------+--------+-----+---------+---------+----+----------+-------+--------+-----------------+--------+------+-------------+----------+--------------------+\n",
      "|        Appartement |        Toulouse|      31|      31000| 650.0|   30.0|      22.0|       1|  1240.0|    1|      Oui|      Oui| Oui|       Oui|    Oui|     Oui|              Non|     Oui|   Non|          Non|          |Plein centre vill...|\n",
      "|        Appartement |           Reims|      51|      51100| 450.0|   40.0|      27.0|       1|   820.0|    1|      Oui|      Oui| Oui|       Oui|    Oui|     Oui|              Non|     Oui|   Non|          Non|          |hyper centre - pl...|\n",
      "|        Appartement |    Valenciennes|      59|      59300| 409.0|   25.0|      18.0|       1|   768.0|    3|      Oui|      Oui| Oui|       Oui|    Oui|     Oui|              Non|     Oui|   Non|          Non|          |   Pas de descriptif|\n",
      "|Appartement étudi...|         Avignon|      84|      84000| 490.0|   48.0|      25.0|       1|   884.0|    2|      Oui|      Oui| Oui|       Oui|    Oui|     Oui|              Non|     Oui|   Oui|          Non|          |AVIGNON AGROPARC ...|\n",
      "|        Appartement |          Pessac|      33|      33600| 632.0|   40.0|      21.0|       1|  1077.0|    2|      Oui|      Oui| Oui|       Oui|    Oui|     Oui|              Non|     Oui|   Non|          Non|          |PESSAC - Au coeur...|\n",
      "|        Appartement |         Talence|      33|      33400|1155.0|   55.0|      69.0|       3|  2200.0|    5|      Oui|      Oui| Oui|       Oui|    Oui|     Oui|              Non|     Oui|   Oui|          Non|          |Talence  Lamartin...|\n",
      "|        Appartement |           Reims|      51|      51100| 502.0|   15.0|      24.0|       1|   974.0|    1|      Oui|      Oui| Oui|       Oui|    Oui|     Oui|              Non|     Oui|   Non|          Non|          |Hyper Centre rue ...|\n",
      "|        Appartement |           Reims|      51|      51100| 402.0|   50.0|      18.0|       1|   704.0|    2|      Oui|      Oui| Oui|       Oui|    Oui|     Oui|              Non|     Oui|   Non|          Non|          |Résidence Farman ...|\n",
      "|        Appartement |        Grenoble|      38|      38000|1780.0|   80.0|     115.0|       4|  3400.0|    1|      Oui|      Oui| Oui|       Oui|    Oui|     Oui|              Non|     Oui|   Oui|          Non|          |EXCEPTIONNEL - Pa...|\n",
      "|        Appartement |         Auxerre|      89|      89000| 354.0|   14.0|      17.0|       1|   680.0|    3|      Oui|      Oui| Oui|       Oui|    Oui|     Oui|              Non|     Oui|   Non|             |          |Dans une résidenc...|\n",
      "|Appartement étudi...|           Lille|      59|      59564| 570.0|  110.0|      28.0|       1|   921.0|   12|      Oui|      Oui| Oui|       Oui|    Oui|     Oui|              Non|     Oui|   Non|          Non|          |L'idéal pour un é...|\n",
      "|        Appartement |           Reims|      51|      51100| 590.0|   30.0|      38.0|       2|  1120.0|    1|      Oui|      Oui| Oui|       Oui|    Oui|     Oui|              Non|     Oui|   Non|          Non|          |Secteur Gambetta ...|\n",
      "|        Appartement |           Reims|      51|      51100| 383.0|   25.0|      17.0|       1|   716.0|    2|      Oui|      Oui| Oui|       Oui|    Oui|     Oui|              Non|     Oui|   Non|          Non|          |RESIDENCE DU PARC...|\n",
      "|        Appartement |            Nice|      06|      06000| 963.0|  205.0|      59.0|       2|  1517.0|    4|      Oui|      Oui| Oui|       Oui|    Oui|     Oui|              Non|     Oui|   Non|          Non|          |Disponible le 22/...|\n",
      "|Appartement étudi...|     Montpellier|      34|      34000| 526.0|   64.0|      24.0|       1|   924.0|    2|      Oui|      Oui| Oui|       Oui|    Oui|     Oui|              Non|     Oui|   Non|             |          |Rue du Pioch  de ...|\n",
      "|        Appartement | Aix-en-Provence|      13|      13100| 629.0|   11.0|      32.0|       2|  1236.0|    3|      Oui|      Oui| Oui|       Oui|    Oui|     Oui|              Non|     Oui|   Non|          Non|          |Beau T2 duplex, m...|\n",
      "|        Appartement |        Toulouse|      31|      31000| 989.0|   70.0|      52.0|       2|  1838.0|    5|      Oui|      Oui| Oui|       Oui|    Oui|     Oui|              Non|     Oui|   Oui|          Non|          |Alsace Lorraine, ...|\n",
      "|        Appartement |        Moûtiers|      73|      73600| 394.0|   45.0|      31.0|       1|   699.0|    3|      Oui|      Oui| Oui|       Oui|    Oui|     Oui|              Non|     Oui|   Non|          Non|          |CENTRE DE MOUTIER...|\n",
      "|        Appartement |        Paris 17|      75|      75017| 795.0|   75.0|      19.0|       1|   720.0|    1|      Oui|      Non| Oui|       Non|    Oui|     Oui|              Non|     Non|   Non|          Non|Individuel|PARIS 17, METRO L...|\n",
      "|        Appartement |        Paris 16|      75|      75016|1395.0|  160.0|      37.0|       2|  1235.0|     |      Oui|      Non| Oui|       Non|    Oui|     Oui|              Non|     Non|   Non|          Non|          |Proches transport...|\n",
      "+--------------------+----------------+--------+-----------+------+-------+----------+--------+--------+-----+---------+---------+----+----------+-------+--------+-----------------+--------+------+-------------+----------+--------------------+\n",
      "only showing top 20 rows\n",
      "\n"
     ]
    }
   ],
   "source": [
    "data.show()"
   ]
  },
  {
   "cell_type": "markdown",
   "metadata": {
    "id": "kyp2s6-0040P"
   },
   "source": [
    "# Exportation de la base de données\n",
    "\n",
    "Nous exportons la base de données en csv."
   ]
  },
  {
   "cell_type": "code",
   "execution_count": null,
   "metadata": {
    "id": "ReHw4yPGyt1h"
   },
   "outputs": [],
   "source": [
    "data.write.options(header='True', delimiter=',').csv(\"/content/drive/MyDrive/Projet Python/données.csv\")"
   ]
  },
  {
   "cell_type": "markdown",
   "metadata": {},
   "source": [
    "<ul>\n",
    "    <li><a href=\"0. Sommaire et résumé.ipynb\">Retourner au sommaire</a></li>\n",
    "    <li><a href=\"3. Visualisation.ipynb\">Aller à la partie 3</a></li>\n",
    "    <li><a href=\"https://eunicekoffi-projetpython-app-wuniri.streamlit.app/\">Lien de l'application</a></li>\n",
    "</ul>"
   ]
  }
 ],
 "metadata": {
  "colab": {
   "provenance": []
  },
  "kernelspec": {
   "display_name": "Python 3 (ipykernel)",
   "language": "python",
   "name": "python3"
  },
  "language_info": {
   "codemirror_mode": {
    "name": "ipython",
    "version": 3
   },
   "file_extension": ".py",
   "mimetype": "text/x-python",
   "name": "python",
   "nbconvert_exporter": "python",
   "pygments_lexer": "ipython3",
   "version": "3.9.12"
  }
 },
 "nbformat": 4,
 "nbformat_minor": 4
}
