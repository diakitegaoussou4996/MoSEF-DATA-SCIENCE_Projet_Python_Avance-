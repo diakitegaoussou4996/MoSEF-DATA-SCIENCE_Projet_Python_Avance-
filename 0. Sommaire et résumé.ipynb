{
 "cells": [
  {
   "cell_type": "markdown",
   "id": "1bb1adc4-d982-4292-8d7b-dc2e9022185a",
   "metadata": {},
   "source": [
    "<br>\n",
    "<img src=\"data/logoMoSEF.jpeg\" width=90px align=\"left\">\n",
    "<div align=\"right\">Enseignant : Hager Oueslati</div>\n",
    "<div align=\"right\">Réalisé par : Gaoussou DIAKITE et Eunice KOFFI</div>\n",
    "<div align=\"right\">Année : 2022/2023</div><br><br><br>\n",
    "<div align=\"center\"><span style=\"font-family:Lucida Caligraphy;font-size:32px;color:darkgreen\">Master 2 Modélistaion Statistiques Economiques et Financières</span></div><br>\n",
    "<div align=\"center\"><span style=\"font-family:Lucida Caligraphy;font-size:28px;color:#e60000\">Projet Python avancé</span></div><br><br>\n",
    "<hr>\n",
    "\n",
    "<br>\n",
    "\n",
    "<div align=\"center\"><span style=\"font-family:Lucida Caligraphy;font-size:32px;color:darkgreen\">Table des matières</span></div><br>"
   ]
  },
  {
   "cell_type": "markdown",
   "id": "ac70192a-3f21-4ab0-a061-f0717401e2e5",
   "metadata": {},
   "source": [
    "<div style=\"border-bottom:solid #e60000\">\n",
    "<h1>1. Scraping</h1>\n",
    "</div>"
   ]
  },
  {
   "cell_type": "markdown",
   "id": "421e6adf-c65a-454c-85d9-1950aade3b19",
   "metadata": {},
   "source": [
    "<div style=\"margin-left:30px\">\n",
    "    <p>\n",
    "Dans cette partie, nous récupérons des données du site de logement Nexity.\n",
    "    <ul>\n",
    "        <li><a href=\"1. Scraping.ipynb\">Visualisez-la ici</a></li>\n",
    "    </ul>\n",
    "    <p/>\n",
    "</div>"
   ]
  },
  {
   "cell_type": "markdown",
   "id": "d67e656c-aa49-497e-8363-6b9913b6f356",
   "metadata": {},
   "source": [
    "<div style=\"border-bottom:solid #e60000\">\n",
    "<h1>2. Features engineering</h1>\n",
    "</div>"
   ]
  },
  {
   "cell_type": "markdown",
   "id": "8ef8d2f6-ba2c-4f7b-9b7d-3cc4b4a1195d",
   "metadata": {},
   "source": [
    "<div style=\"margin-left:30px\">\n",
    "    <p>\n",
    "A partir des variables obtenues avec le scrapping, nous construisons les variables dont nous avons besoin pour la suite de notre analyse. \n",
    "    <ul>\n",
    "        <li><a href=\"2. Features engineering.ipynb\">Visualisez-la ici</a></li>\n",
    "    </ul>\n",
    "    <p/>\n",
    "</div>"
   ]
  },
  {
   "cell_type": "markdown",
   "id": "14ee8408-9433-494b-b8d3-78ed4194d9ee",
   "metadata": {},
   "source": [
    "<div style=\"border-bottom:solid #e60000\">\n",
    "<h1>3. Visualisation</h1>\n",
    "</div>"
   ]
  },
  {
   "cell_type": "markdown",
   "id": "a33f22b9-7a24-4cd1-b0f9-39441fbd09e2",
   "metadata": {},
   "source": [
    "<div style=\"margin-left:30px\">\n",
    "    <p>\n",
    "Une analyse exploratoire est menée pour comprendre les caractéistiques de notre base de données.\n",
    "    <ul>\n",
    "        <li><a href=\"3. Visualisation.ipynb\">Visualisez-la ici</a></li>\n",
    "    </ul>\n",
    "    <p/>\n",
    "</div>"
   ]
  },
  {
   "cell_type": "markdown",
   "id": "aff8547c-35b9-4320-9805-f9020681fa45",
   "metadata": {},
   "source": [
    "<div style=\"border-bottom:solid #e60000\">\n",
    "<h1>4. Machine Learning</h1>\n",
    "</div>"
   ]
  },
  {
   "cell_type": "markdown",
   "id": "5a37a3b1-4a64-40ae-b129-844436fd7607",
   "metadata": {},
   "source": [
    "<div style=\"margin-left:30px\">\n",
    "    <p>\n",
    "Cette étape consiste en l'estimation du prix du loyer à partir des variables présentes dans la base de données consolidée que nous avons obtenu.\n",
    "    <ul>\n",
    "        <li><a href=\"4. ML_Prediction_Loyer.ipynb\">Visualisez-la ici</a></li>\n",
    "    </ul>\n",
    "    <p/>\n",
    "</div>"
   ]
  },
  {
   "cell_type": "markdown",
   "id": "e58db3e6-233d-44f1-a93b-3106e704a0e2",
   "metadata": {},
   "source": [
    "<div style=\"border-bottom:solid #e60000\">\n",
    "<h1>Annexes</h1>\n",
    "</div>"
   ]
  },
  {
   "cell_type": "markdown",
   "id": "ef8b2263-3c37-4918-8c08-45ed18b6c9d4",
   "metadata": {},
   "source": [
    "<div style=\"margin-left:30px;border-bottom:solid 1px\">\n",
    "    <ol>\n",
    "        <li><a href=\"App.py\">Code de l'application</a></li>\n",
    "        <li><a href=\"https://eunicekoffi-projetpython-app-wuniri.streamlit.app/\">Lien de l'application</a></li> \n",
    "        <li><a href=\"MOSEF_Présentation_EuniceKOFFI_GaoussouDIAKITE.pdf\">Présentation</a></li>\n",
    "    </ol>\n",
    "</div>"
   ]
  }
 ],
 "metadata": {
  "kernelspec": {
   "display_name": "Python 3 (ipykernel)",
   "language": "python",
   "name": "python3"
  },
  "language_info": {
   "codemirror_mode": {
    "name": "ipython",
    "version": 3
   },
   "file_extension": ".py",
   "mimetype": "text/x-python",
   "name": "python",
   "nbconvert_exporter": "python",
   "pygments_lexer": "ipython3",
   "version": "3.9.12"
  }
 },
 "nbformat": 4,
 "nbformat_minor": 5
}
